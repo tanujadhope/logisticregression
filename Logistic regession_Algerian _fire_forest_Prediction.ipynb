{
 "cells": [
  {
   "cell_type": "markdown",
   "id": "7a03ad20",
   "metadata": {},
   "source": [
    "#### This dataset comprises of forest fires in Algeria.The data of two regions of Algeria,namely the Bejaia region located in the northeast of Algeria and the Sidi Bel-abbes region located in the northwest of Algeria are considered.If user can predict the forest fire in Algerian region based on input features.Prediction results can be used to give forest fire dates and for making preventive actions"
   ]
  },
  {
   "cell_type": "code",
   "execution_count": 1,
   "id": "2b102cf4",
   "metadata": {},
   "outputs": [],
   "source": [
    "#Let's start with importing necessary libraries\n",
    "\n",
    "import pandas as pd \n",
    "import numpy as np \n",
    "from sklearn.preprocessing import StandardScaler \n",
    "from sklearn.linear_model  import Ridge,Lasso,RidgeCV, LassoCV, ElasticNet, ElasticNetCV, LogisticRegression\n",
    "from sklearn.model_selection import train_test_split\n",
    "from statsmodels.stats.outliers_influence import variance_inflation_factor \n",
    "from sklearn.metrics import accuracy_score, confusion_matrix, roc_curve, roc_auc_score\n",
    "import matplotlib.pyplot as plt\n",
    "import seaborn as sns\n",
    "import scikitplot as skl\n",
    "sns.set()"
   ]
  },
  {
   "cell_type": "code",
   "execution_count": 2,
   "id": "b3c42420",
   "metadata": {},
   "outputs": [],
   "source": [
    "\n",
    "df=pd.read_csv(\"D:\\ineuron\\EDA _Dataset\\Dataset\\Data10\\modified_fire.csv\")"
   ]
  },
  {
   "cell_type": "code",
   "execution_count": 3,
   "id": "c23732a5",
   "metadata": {},
   "outputs": [
    {
     "data": {
      "text/html": [
       "<div>\n",
       "<style scoped>\n",
       "    .dataframe tbody tr th:only-of-type {\n",
       "        vertical-align: middle;\n",
       "    }\n",
       "\n",
       "    .dataframe tbody tr th {\n",
       "        vertical-align: top;\n",
       "    }\n",
       "\n",
       "    .dataframe thead th {\n",
       "        text-align: right;\n",
       "    }\n",
       "</style>\n",
       "<table border=\"1\" class=\"dataframe\">\n",
       "  <thead>\n",
       "    <tr style=\"text-align: right;\">\n",
       "      <th></th>\n",
       "      <th>day</th>\n",
       "      <th>month</th>\n",
       "      <th>year</th>\n",
       "      <th>Temperature</th>\n",
       "      <th>RH</th>\n",
       "      <th>Ws</th>\n",
       "      <th>Rain</th>\n",
       "      <th>FFMC</th>\n",
       "      <th>DMC</th>\n",
       "      <th>DC</th>\n",
       "      <th>ISI</th>\n",
       "      <th>BUI</th>\n",
       "      <th>FWI</th>\n",
       "      <th>Classes</th>\n",
       "      <th>Region</th>\n",
       "    </tr>\n",
       "  </thead>\n",
       "  <tbody>\n",
       "    <tr>\n",
       "      <th>0</th>\n",
       "      <td>1</td>\n",
       "      <td>6</td>\n",
       "      <td>2012</td>\n",
       "      <td>29</td>\n",
       "      <td>57</td>\n",
       "      <td>18</td>\n",
       "      <td>0.0</td>\n",
       "      <td>65.7</td>\n",
       "      <td>3.4</td>\n",
       "      <td>7.6</td>\n",
       "      <td>1.3</td>\n",
       "      <td>3.4</td>\n",
       "      <td>0.5</td>\n",
       "      <td>0</td>\n",
       "      <td>1</td>\n",
       "    </tr>\n",
       "    <tr>\n",
       "      <th>1</th>\n",
       "      <td>2</td>\n",
       "      <td>6</td>\n",
       "      <td>2012</td>\n",
       "      <td>29</td>\n",
       "      <td>61</td>\n",
       "      <td>13</td>\n",
       "      <td>1.3</td>\n",
       "      <td>64.4</td>\n",
       "      <td>4.1</td>\n",
       "      <td>7.6</td>\n",
       "      <td>1.0</td>\n",
       "      <td>3.9</td>\n",
       "      <td>0.4</td>\n",
       "      <td>0</td>\n",
       "      <td>1</td>\n",
       "    </tr>\n",
       "    <tr>\n",
       "      <th>2</th>\n",
       "      <td>3</td>\n",
       "      <td>6</td>\n",
       "      <td>2012</td>\n",
       "      <td>26</td>\n",
       "      <td>82</td>\n",
       "      <td>22</td>\n",
       "      <td>13.1</td>\n",
       "      <td>47.1</td>\n",
       "      <td>2.5</td>\n",
       "      <td>7.1</td>\n",
       "      <td>0.3</td>\n",
       "      <td>2.7</td>\n",
       "      <td>0.1</td>\n",
       "      <td>0</td>\n",
       "      <td>1</td>\n",
       "    </tr>\n",
       "    <tr>\n",
       "      <th>3</th>\n",
       "      <td>4</td>\n",
       "      <td>6</td>\n",
       "      <td>2012</td>\n",
       "      <td>25</td>\n",
       "      <td>89</td>\n",
       "      <td>13</td>\n",
       "      <td>2.5</td>\n",
       "      <td>28.6</td>\n",
       "      <td>1.3</td>\n",
       "      <td>6.9</td>\n",
       "      <td>0.0</td>\n",
       "      <td>1.7</td>\n",
       "      <td>0.0</td>\n",
       "      <td>0</td>\n",
       "      <td>1</td>\n",
       "    </tr>\n",
       "    <tr>\n",
       "      <th>4</th>\n",
       "      <td>5</td>\n",
       "      <td>6</td>\n",
       "      <td>2012</td>\n",
       "      <td>27</td>\n",
       "      <td>77</td>\n",
       "      <td>16</td>\n",
       "      <td>0.0</td>\n",
       "      <td>64.8</td>\n",
       "      <td>3.0</td>\n",
       "      <td>14.2</td>\n",
       "      <td>1.2</td>\n",
       "      <td>3.9</td>\n",
       "      <td>0.5</td>\n",
       "      <td>0</td>\n",
       "      <td>1</td>\n",
       "    </tr>\n",
       "  </tbody>\n",
       "</table>\n",
       "</div>"
      ],
      "text/plain": [
       "   day  month  year  Temperature  RH  Ws  Rain  FFMC  DMC    DC  ISI  BUI  \\\n",
       "0    1      6  2012           29  57  18   0.0  65.7  3.4   7.6  1.3  3.4   \n",
       "1    2      6  2012           29  61  13   1.3  64.4  4.1   7.6  1.0  3.9   \n",
       "2    3      6  2012           26  82  22  13.1  47.1  2.5   7.1  0.3  2.7   \n",
       "3    4      6  2012           25  89  13   2.5  28.6  1.3   6.9  0.0  1.7   \n",
       "4    5      6  2012           27  77  16   0.0  64.8  3.0  14.2  1.2  3.9   \n",
       "\n",
       "   FWI  Classes  Region  \n",
       "0  0.5        0       1  \n",
       "1  0.4        0       1  \n",
       "2  0.1        0       1  \n",
       "3  0.0        0       1  \n",
       "4  0.5        0       1  "
      ]
     },
     "execution_count": 3,
     "metadata": {},
     "output_type": "execute_result"
    }
   ],
   "source": [
    "df.head()"
   ]
  },
  {
   "cell_type": "code",
   "execution_count": 4,
   "id": "16ce5e92",
   "metadata": {},
   "outputs": [
    {
     "data": {
      "text/plain": [
       "(243, 15)"
      ]
     },
     "execution_count": 4,
     "metadata": {},
     "output_type": "execute_result"
    }
   ],
   "source": [
    "df.shape"
   ]
  },
  {
   "cell_type": "code",
   "execution_count": 5,
   "id": "76811945",
   "metadata": {},
   "outputs": [
    {
     "name": "stdout",
     "output_type": "stream",
     "text": [
      "<class 'pandas.core.frame.DataFrame'>\n",
      "RangeIndex: 243 entries, 0 to 242\n",
      "Data columns (total 15 columns):\n",
      " #   Column       Non-Null Count  Dtype  \n",
      "---  ------       --------------  -----  \n",
      " 0   day          243 non-null    int64  \n",
      " 1   month        243 non-null    int64  \n",
      " 2   year         243 non-null    int64  \n",
      " 3   Temperature  243 non-null    int64  \n",
      " 4   RH           243 non-null    int64  \n",
      " 5   Ws           243 non-null    int64  \n",
      " 6   Rain         243 non-null    float64\n",
      " 7   FFMC         243 non-null    float64\n",
      " 8   DMC          243 non-null    float64\n",
      " 9   DC           243 non-null    float64\n",
      " 10  ISI          243 non-null    float64\n",
      " 11  BUI          243 non-null    float64\n",
      " 12  FWI          243 non-null    float64\n",
      " 13  Classes      243 non-null    int64  \n",
      " 14  Region       243 non-null    int64  \n",
      "dtypes: float64(7), int64(8)\n",
      "memory usage: 28.6 KB\n"
     ]
    }
   ],
   "source": [
    "df.info()"
   ]
  },
  {
   "cell_type": "code",
   "execution_count": 6,
   "id": "42f85572",
   "metadata": {},
   "outputs": [
    {
     "data": {
      "text/html": [
       "<div>\n",
       "<style scoped>\n",
       "    .dataframe tbody tr th:only-of-type {\n",
       "        vertical-align: middle;\n",
       "    }\n",
       "\n",
       "    .dataframe tbody tr th {\n",
       "        vertical-align: top;\n",
       "    }\n",
       "\n",
       "    .dataframe thead th {\n",
       "        text-align: right;\n",
       "    }\n",
       "</style>\n",
       "<table border=\"1\" class=\"dataframe\">\n",
       "  <thead>\n",
       "    <tr style=\"text-align: right;\">\n",
       "      <th></th>\n",
       "      <th>Temperature</th>\n",
       "      <th>RH</th>\n",
       "      <th>Ws</th>\n",
       "      <th>Rain</th>\n",
       "      <th>FFMC</th>\n",
       "      <th>DMC</th>\n",
       "      <th>DC</th>\n",
       "      <th>ISI</th>\n",
       "      <th>BUI</th>\n",
       "      <th>FWI</th>\n",
       "      <th>Classes</th>\n",
       "      <th>Region</th>\n",
       "    </tr>\n",
       "  </thead>\n",
       "  <tbody>\n",
       "    <tr>\n",
       "      <th>0</th>\n",
       "      <td>29</td>\n",
       "      <td>57</td>\n",
       "      <td>18</td>\n",
       "      <td>0.0</td>\n",
       "      <td>65.7</td>\n",
       "      <td>3.4</td>\n",
       "      <td>7.6</td>\n",
       "      <td>1.3</td>\n",
       "      <td>3.4</td>\n",
       "      <td>0.5</td>\n",
       "      <td>0</td>\n",
       "      <td>1</td>\n",
       "    </tr>\n",
       "    <tr>\n",
       "      <th>1</th>\n",
       "      <td>29</td>\n",
       "      <td>61</td>\n",
       "      <td>13</td>\n",
       "      <td>1.3</td>\n",
       "      <td>64.4</td>\n",
       "      <td>4.1</td>\n",
       "      <td>7.6</td>\n",
       "      <td>1.0</td>\n",
       "      <td>3.9</td>\n",
       "      <td>0.4</td>\n",
       "      <td>0</td>\n",
       "      <td>1</td>\n",
       "    </tr>\n",
       "    <tr>\n",
       "      <th>2</th>\n",
       "      <td>26</td>\n",
       "      <td>82</td>\n",
       "      <td>22</td>\n",
       "      <td>13.1</td>\n",
       "      <td>47.1</td>\n",
       "      <td>2.5</td>\n",
       "      <td>7.1</td>\n",
       "      <td>0.3</td>\n",
       "      <td>2.7</td>\n",
       "      <td>0.1</td>\n",
       "      <td>0</td>\n",
       "      <td>1</td>\n",
       "    </tr>\n",
       "    <tr>\n",
       "      <th>3</th>\n",
       "      <td>25</td>\n",
       "      <td>89</td>\n",
       "      <td>13</td>\n",
       "      <td>2.5</td>\n",
       "      <td>28.6</td>\n",
       "      <td>1.3</td>\n",
       "      <td>6.9</td>\n",
       "      <td>0.0</td>\n",
       "      <td>1.7</td>\n",
       "      <td>0.0</td>\n",
       "      <td>0</td>\n",
       "      <td>1</td>\n",
       "    </tr>\n",
       "    <tr>\n",
       "      <th>4</th>\n",
       "      <td>27</td>\n",
       "      <td>77</td>\n",
       "      <td>16</td>\n",
       "      <td>0.0</td>\n",
       "      <td>64.8</td>\n",
       "      <td>3.0</td>\n",
       "      <td>14.2</td>\n",
       "      <td>1.2</td>\n",
       "      <td>3.9</td>\n",
       "      <td>0.5</td>\n",
       "      <td>0</td>\n",
       "      <td>1</td>\n",
       "    </tr>\n",
       "    <tr>\n",
       "      <th>5</th>\n",
       "      <td>31</td>\n",
       "      <td>67</td>\n",
       "      <td>14</td>\n",
       "      <td>0.0</td>\n",
       "      <td>82.6</td>\n",
       "      <td>5.8</td>\n",
       "      <td>22.2</td>\n",
       "      <td>3.1</td>\n",
       "      <td>7.0</td>\n",
       "      <td>2.5</td>\n",
       "      <td>1</td>\n",
       "      <td>1</td>\n",
       "    </tr>\n",
       "    <tr>\n",
       "      <th>6</th>\n",
       "      <td>33</td>\n",
       "      <td>54</td>\n",
       "      <td>13</td>\n",
       "      <td>0.0</td>\n",
       "      <td>88.2</td>\n",
       "      <td>9.9</td>\n",
       "      <td>30.5</td>\n",
       "      <td>6.4</td>\n",
       "      <td>10.9</td>\n",
       "      <td>7.2</td>\n",
       "      <td>1</td>\n",
       "      <td>1</td>\n",
       "    </tr>\n",
       "    <tr>\n",
       "      <th>7</th>\n",
       "      <td>30</td>\n",
       "      <td>73</td>\n",
       "      <td>15</td>\n",
       "      <td>0.0</td>\n",
       "      <td>86.6</td>\n",
       "      <td>12.1</td>\n",
       "      <td>38.3</td>\n",
       "      <td>5.6</td>\n",
       "      <td>13.5</td>\n",
       "      <td>7.1</td>\n",
       "      <td>1</td>\n",
       "      <td>1</td>\n",
       "    </tr>\n",
       "    <tr>\n",
       "      <th>8</th>\n",
       "      <td>25</td>\n",
       "      <td>88</td>\n",
       "      <td>13</td>\n",
       "      <td>0.2</td>\n",
       "      <td>52.9</td>\n",
       "      <td>7.9</td>\n",
       "      <td>38.8</td>\n",
       "      <td>0.4</td>\n",
       "      <td>10.5</td>\n",
       "      <td>0.3</td>\n",
       "      <td>0</td>\n",
       "      <td>1</td>\n",
       "    </tr>\n",
       "    <tr>\n",
       "      <th>9</th>\n",
       "      <td>28</td>\n",
       "      <td>79</td>\n",
       "      <td>12</td>\n",
       "      <td>0.0</td>\n",
       "      <td>73.2</td>\n",
       "      <td>9.5</td>\n",
       "      <td>46.3</td>\n",
       "      <td>1.3</td>\n",
       "      <td>12.6</td>\n",
       "      <td>0.9</td>\n",
       "      <td>0</td>\n",
       "      <td>1</td>\n",
       "    </tr>\n",
       "  </tbody>\n",
       "</table>\n",
       "</div>"
      ],
      "text/plain": [
       "   Temperature  RH  Ws  Rain  FFMC   DMC    DC  ISI   BUI  FWI  Classes  \\\n",
       "0           29  57  18   0.0  65.7   3.4   7.6  1.3   3.4  0.5        0   \n",
       "1           29  61  13   1.3  64.4   4.1   7.6  1.0   3.9  0.4        0   \n",
       "2           26  82  22  13.1  47.1   2.5   7.1  0.3   2.7  0.1        0   \n",
       "3           25  89  13   2.5  28.6   1.3   6.9  0.0   1.7  0.0        0   \n",
       "4           27  77  16   0.0  64.8   3.0  14.2  1.2   3.9  0.5        0   \n",
       "5           31  67  14   0.0  82.6   5.8  22.2  3.1   7.0  2.5        1   \n",
       "6           33  54  13   0.0  88.2   9.9  30.5  6.4  10.9  7.2        1   \n",
       "7           30  73  15   0.0  86.6  12.1  38.3  5.6  13.5  7.1        1   \n",
       "8           25  88  13   0.2  52.9   7.9  38.8  0.4  10.5  0.3        0   \n",
       "9           28  79  12   0.0  73.2   9.5  46.3  1.3  12.6  0.9        0   \n",
       "\n",
       "   Region  \n",
       "0       1  \n",
       "1       1  \n",
       "2       1  \n",
       "3       1  \n",
       "4       1  \n",
       "5       1  \n",
       "6       1  \n",
       "7       1  \n",
       "8       1  \n",
       "9       1  "
      ]
     },
     "execution_count": 6,
     "metadata": {},
     "output_type": "execute_result"
    }
   ],
   "source": [
    "#Droping features ['day','month','year'] beacuse it is not important for analysis \n",
    "df1 = df.drop(['day','month','year'], axis=1)\n",
    "df1.head(10)"
   ]
  },
  {
   "cell_type": "code",
   "execution_count": 7,
   "id": "ff39e081",
   "metadata": {},
   "outputs": [
    {
     "data": {
      "text/plain": [
       "<AxesSubplot:>"
      ]
     },
     "execution_count": 7,
     "metadata": {},
     "output_type": "execute_result"
    },
    {
     "data": {
      "image/png": "[encoded data removed]",
      "text/plain": [
       "<Figure size 1080x720 with 1 Axes>"
      ]
     },
     "metadata": {},
     "output_type": "display_data"
    }
   ],
   "source": [
    "\n",
    "fig, ax = plt.subplots(figsize=(15,10))\n",
    "sns.boxplot(data=df1, width= 0.5,ax=ax,  fliersize=3)"
   ]
  },
  {
   "cell_type": "markdown",
   "id": "5437d6ad",
   "metadata": {},
   "source": [
    "#### the above plot shows that except RH and Temp ,classes and region,other independent parametersare having ouliers .we need to remove it ,it will be removed later on"
   ]
  },
  {
   "cell_type": "code",
   "execution_count": 8,
   "id": "55687823",
   "metadata": {},
   "outputs": [
    {
     "name": "stderr",
     "output_type": "stream",
     "text": [
      "D:\\Anaconda\\lib\\site-packages\\seaborn\\_decorators.py:36: FutureWarning: Pass the following variable as a keyword arg: x. From version 0.12, the only valid positional argument will be `data`, and passing other arguments without an explicit keyword will result in an error or misinterpretation.\n",
      "  warnings.warn(\n"
     ]
    },
    {
     "data": {
      "text/plain": [
       "Text(0.5, 1.0, 'Class Distributions \\n 0: No Fire || 1: Fire')"
      ]
     },
     "execution_count": 8,
     "metadata": {},
     "output_type": "execute_result"
    },
    {
     "data": {
      "image/png": "[encoded data removed]",
      "text/plain": [
       "<Figure size 432x288 with 1 Axes>"
      ]
     },
     "metadata": {},
     "output_type": "display_data"
    }
   ],
   "source": [
    "sns.countplot('Classes', data=df, palette=\"tab10\")\n",
    "plt.title('Class Distributions \\n 0: No Fire || 1: Fire', fontsize=15)"
   ]
  },
  {
   "cell_type": "code",
   "execution_count": 9,
   "id": "a81d48cf",
   "metadata": {},
   "outputs": [],
   "source": [
    "X = df1.drop(columns = ['Classes','Region'])\n",
    "Y = df1['Classes']"
   ]
  },
  {
   "cell_type": "code",
   "execution_count": 10,
   "id": "2d907514",
   "metadata": {},
   "outputs": [
    {
     "data": {
      "text/html": [
       "<div>\n",
       "<style scoped>\n",
       "    .dataframe tbody tr th:only-of-type {\n",
       "        vertical-align: middle;\n",
       "    }\n",
       "\n",
       "    .dataframe tbody tr th {\n",
       "        vertical-align: top;\n",
       "    }\n",
       "\n",
       "    .dataframe thead th {\n",
       "        text-align: right;\n",
       "    }\n",
       "</style>\n",
       "<table border=\"1\" class=\"dataframe\">\n",
       "  <thead>\n",
       "    <tr style=\"text-align: right;\">\n",
       "      <th></th>\n",
       "      <th>Temperature</th>\n",
       "      <th>RH</th>\n",
       "      <th>Ws</th>\n",
       "      <th>Rain</th>\n",
       "      <th>FFMC</th>\n",
       "      <th>DMC</th>\n",
       "      <th>DC</th>\n",
       "      <th>ISI</th>\n",
       "      <th>BUI</th>\n",
       "      <th>FWI</th>\n",
       "    </tr>\n",
       "  </thead>\n",
       "  <tbody>\n",
       "    <tr>\n",
       "      <th>0</th>\n",
       "      <td>29</td>\n",
       "      <td>57</td>\n",
       "      <td>18</td>\n",
       "      <td>0.0</td>\n",
       "      <td>65.7</td>\n",
       "      <td>3.4</td>\n",
       "      <td>7.6</td>\n",
       "      <td>1.3</td>\n",
       "      <td>3.4</td>\n",
       "      <td>0.5</td>\n",
       "    </tr>\n",
       "    <tr>\n",
       "      <th>1</th>\n",
       "      <td>29</td>\n",
       "      <td>61</td>\n",
       "      <td>13</td>\n",
       "      <td>1.3</td>\n",
       "      <td>64.4</td>\n",
       "      <td>4.1</td>\n",
       "      <td>7.6</td>\n",
       "      <td>1.0</td>\n",
       "      <td>3.9</td>\n",
       "      <td>0.4</td>\n",
       "    </tr>\n",
       "    <tr>\n",
       "      <th>2</th>\n",
       "      <td>26</td>\n",
       "      <td>82</td>\n",
       "      <td>22</td>\n",
       "      <td>13.1</td>\n",
       "      <td>47.1</td>\n",
       "      <td>2.5</td>\n",
       "      <td>7.1</td>\n",
       "      <td>0.3</td>\n",
       "      <td>2.7</td>\n",
       "      <td>0.1</td>\n",
       "    </tr>\n",
       "    <tr>\n",
       "      <th>3</th>\n",
       "      <td>25</td>\n",
       "      <td>89</td>\n",
       "      <td>13</td>\n",
       "      <td>2.5</td>\n",
       "      <td>28.6</td>\n",
       "      <td>1.3</td>\n",
       "      <td>6.9</td>\n",
       "      <td>0.0</td>\n",
       "      <td>1.7</td>\n",
       "      <td>0.0</td>\n",
       "    </tr>\n",
       "    <tr>\n",
       "      <th>4</th>\n",
       "      <td>27</td>\n",
       "      <td>77</td>\n",
       "      <td>16</td>\n",
       "      <td>0.0</td>\n",
       "      <td>64.8</td>\n",
       "      <td>3.0</td>\n",
       "      <td>14.2</td>\n",
       "      <td>1.2</td>\n",
       "      <td>3.9</td>\n",
       "      <td>0.5</td>\n",
       "    </tr>\n",
       "    <tr>\n",
       "      <th>...</th>\n",
       "      <td>...</td>\n",
       "      <td>...</td>\n",
       "      <td>...</td>\n",
       "      <td>...</td>\n",
       "      <td>...</td>\n",
       "      <td>...</td>\n",
       "      <td>...</td>\n",
       "      <td>...</td>\n",
       "      <td>...</td>\n",
       "      <td>...</td>\n",
       "    </tr>\n",
       "    <tr>\n",
       "      <th>238</th>\n",
       "      <td>30</td>\n",
       "      <td>65</td>\n",
       "      <td>14</td>\n",
       "      <td>0.0</td>\n",
       "      <td>85.4</td>\n",
       "      <td>16.0</td>\n",
       "      <td>44.5</td>\n",
       "      <td>4.5</td>\n",
       "      <td>16.9</td>\n",
       "      <td>6.5</td>\n",
       "    </tr>\n",
       "    <tr>\n",
       "      <th>239</th>\n",
       "      <td>28</td>\n",
       "      <td>87</td>\n",
       "      <td>15</td>\n",
       "      <td>4.4</td>\n",
       "      <td>41.1</td>\n",
       "      <td>6.5</td>\n",
       "      <td>8.0</td>\n",
       "      <td>0.1</td>\n",
       "      <td>6.2</td>\n",
       "      <td>0.0</td>\n",
       "    </tr>\n",
       "    <tr>\n",
       "      <th>240</th>\n",
       "      <td>27</td>\n",
       "      <td>87</td>\n",
       "      <td>29</td>\n",
       "      <td>0.5</td>\n",
       "      <td>45.9</td>\n",
       "      <td>3.5</td>\n",
       "      <td>7.9</td>\n",
       "      <td>0.4</td>\n",
       "      <td>3.4</td>\n",
       "      <td>0.2</td>\n",
       "    </tr>\n",
       "    <tr>\n",
       "      <th>241</th>\n",
       "      <td>24</td>\n",
       "      <td>54</td>\n",
       "      <td>18</td>\n",
       "      <td>0.1</td>\n",
       "      <td>79.7</td>\n",
       "      <td>4.3</td>\n",
       "      <td>15.2</td>\n",
       "      <td>1.7</td>\n",
       "      <td>5.1</td>\n",
       "      <td>0.7</td>\n",
       "    </tr>\n",
       "    <tr>\n",
       "      <th>242</th>\n",
       "      <td>24</td>\n",
       "      <td>64</td>\n",
       "      <td>15</td>\n",
       "      <td>0.2</td>\n",
       "      <td>67.3</td>\n",
       "      <td>3.8</td>\n",
       "      <td>16.5</td>\n",
       "      <td>1.2</td>\n",
       "      <td>4.8</td>\n",
       "      <td>0.5</td>\n",
       "    </tr>\n",
       "  </tbody>\n",
       "</table>\n",
       "<p>243 rows × 10 columns</p>\n",
       "</div>"
      ],
      "text/plain": [
       "     Temperature  RH  Ws  Rain  FFMC   DMC    DC  ISI   BUI  FWI\n",
       "0             29  57  18   0.0  65.7   3.4   7.6  1.3   3.4  0.5\n",
       "1             29  61  13   1.3  64.4   4.1   7.6  1.0   3.9  0.4\n",
       "2             26  82  22  13.1  47.1   2.5   7.1  0.3   2.7  0.1\n",
       "3             25  89  13   2.5  28.6   1.3   6.9  0.0   1.7  0.0\n",
       "4             27  77  16   0.0  64.8   3.0  14.2  1.2   3.9  0.5\n",
       "..           ...  ..  ..   ...   ...   ...   ...  ...   ...  ...\n",
       "238           30  65  14   0.0  85.4  16.0  44.5  4.5  16.9  6.5\n",
       "239           28  87  15   4.4  41.1   6.5   8.0  0.1   6.2  0.0\n",
       "240           27  87  29   0.5  45.9   3.5   7.9  0.4   3.4  0.2\n",
       "241           24  54  18   0.1  79.7   4.3  15.2  1.7   5.1  0.7\n",
       "242           24  64  15   0.2  67.3   3.8  16.5  1.2   4.8  0.5\n",
       "\n",
       "[243 rows x 10 columns]"
      ]
     },
     "execution_count": 10,
     "metadata": {},
     "output_type": "execute_result"
    }
   ],
   "source": [
    "X"
   ]
  },
  {
   "cell_type": "code",
   "execution_count": 11,
   "id": "85306b78",
   "metadata": {},
   "outputs": [],
   "source": [
    "scaler=StandardScaler()\n",
    "X=scaler.fit_transform(X)"
   ]
  },
  {
   "cell_type": "code",
   "execution_count": 12,
   "id": "a57344b3",
   "metadata": {},
   "outputs": [
    {
     "data": {
      "text/plain": [
       "(243, 10)"
      ]
     },
     "execution_count": 12,
     "metadata": {},
     "output_type": "execute_result"
    }
   ],
   "source": [
    "X.shape"
   ]
  },
  {
   "cell_type": "code",
   "execution_count": 13,
   "id": "b27c9ea9",
   "metadata": {},
   "outputs": [],
   "source": [
    "X_train,X_test,Y_train,Y_test = train_test_split(X,Y, test_size= 0.25, random_state = 45)"
   ]
  },
  {
   "cell_type": "code",
   "execution_count": 14,
   "id": "3fe60ffb",
   "metadata": {},
   "outputs": [
    {
     "data": {
      "text/html": [
       "<style>#sk-container-id-1 {color: black;background-color: white;}#sk-container-id-1 pre{padding: 0;}#sk-container-id-1 div.sk-toggleable {background-color: white;}#sk-container-id-1 label.sk-toggleable__label {cursor: pointer;display: block;width: 100%;margin-bottom: 0;padding: 0.3em;box-sizing: border-box;text-align: center;}#sk-container-id-1 label.sk-toggleable__label-arrow:before {content: \"▸\";float: left;margin-right: 0.25em;color: #696969;}#sk-container-id-1 label.sk-toggleable__label-arrow:hover:before {color: black;}#sk-container-id-1 div.sk-estimator:hover label.sk-toggleable__label-arrow:before {color: black;}#sk-container-id-1 div.sk-toggleable__content {max-height: 0;max-width: 0;overflow: hidden;text-align: left;background-color: #f0f8ff;}#sk-container-id-1 div.sk-toggleable__content pre {margin: 0.2em;color: black;border-radius: 0.25em;background-color: #f0f8ff;}#sk-container-id-1 input.sk-toggleable__control:checked~div.sk-toggleable__content {max-height: 200px;max-width: 100%;overflow: auto;}#sk-container-id-1 input.sk-toggleable__control:checked~label.sk-toggleable__label-arrow:before {content: \"▾\";}#sk-container-id-1 div.sk-estimator input.sk-toggleable__control:checked~label.sk-toggleable__label {background-color: #d4ebff;}#sk-container-id-1 div.sk-label input.sk-toggleable__control:checked~label.sk-toggleable__label {background-color: #d4ebff;}#sk-container-id-1 input.sk-hidden--visually {border: 0;clip: rect(1px 1px 1px 1px);clip: rect(1px, 1px, 1px, 1px);height: 1px;margin: -1px;overflow: hidden;padding: 0;position: absolute;width: 1px;}#sk-container-id-1 div.sk-estimator {font-family: monospace;background-color: #f0f8ff;border: 1px dotted black;border-radius: 0.25em;box-sizing: border-box;margin-bottom: 0.5em;}#sk-container-id-1 div.sk-estimator:hover {background-color: #d4ebff;}#sk-container-id-1 div.sk-parallel-item::after {content: \"\";width: 100%;border-bottom: 1px solid gray;flex-grow: 1;}#sk-container-id-1 div.sk-label:hover label.sk-toggleable__label {background-color: #d4ebff;}#sk-container-id-1 div.sk-serial::before {content: \"\";position: absolute;border-left: 1px solid gray;box-sizing: border-box;top: 0;bottom: 0;left: 50%;z-index: 0;}#sk-container-id-1 div.sk-serial {display: flex;flex-direction: column;align-items: center;background-color: white;padding-right: 0.2em;padding-left: 0.2em;position: relative;}#sk-container-id-1 div.sk-item {position: relative;z-index: 1;}#sk-container-id-1 div.sk-parallel {display: flex;align-items: stretch;justify-content: center;background-color: white;position: relative;}#sk-container-id-1 div.sk-item::before, #sk-container-id-1 div.sk-parallel-item::before {content: \"\";position: absolute;border-left: 1px solid gray;box-sizing: border-box;top: 0;bottom: 0;left: 50%;z-index: -1;}#sk-container-id-1 div.sk-parallel-item {display: flex;flex-direction: column;z-index: 1;position: relative;background-color: white;}#sk-container-id-1 div.sk-parallel-item:first-child::after {align-self: flex-end;width: 50%;}#sk-container-id-1 div.sk-parallel-item:last-child::after {align-self: flex-start;width: 50%;}#sk-container-id-1 div.sk-parallel-item:only-child::after {width: 0;}#sk-container-id-1 div.sk-dashed-wrapped {border: 1px dashed gray;margin: 0 0.4em 0.5em 0.4em;box-sizing: border-box;padding-bottom: 0.4em;background-color: white;}#sk-container-id-1 div.sk-label label {font-family: monospace;font-weight: bold;display: inline-block;line-height: 1.2em;}#sk-container-id-1 div.sk-label-container {text-align: center;}#sk-container-id-1 div.sk-container {/* jupyter's `normalize.less` sets `[hidden] { display: none; }` but bootstrap.min.css set `[hidden] { display: none !important; }` so we also need the `!important` here to be able to override the default hidden behavior on the sphinx rendered scikit-learn.org. See: https://github.com/scikit-learn/scikit-learn/issues/21755 */display: inline-block !important;position: relative;}#sk-container-id-1 div.sk-text-repr-fallback {display: none;}</style><div id=\"sk-container-id-1\" class=\"sk-top-container\"><div class=\"sk-text-repr-fallback\"><pre>LogisticRegression()</pre><b>In a Jupyter environment, please rerun this cell to show the HTML representation or trust the notebook. <br />On GitHub, the HTML representation is unable to render, please try loading this page with nbviewer.org.</b></div><div class=\"sk-container\" hidden><div class=\"sk-item\"><div class=\"sk-estimator sk-toggleable\"><input class=\"sk-toggleable__control sk-hidden--visually\" id=\"sk-estimator-id-1\" type=\"checkbox\" checked><label for=\"sk-estimator-id-1\" class=\"sk-toggleable__label sk-toggleable__label-arrow\">LogisticRegression</label><div class=\"sk-toggleable__content\"><pre>LogisticRegression()</pre></div></div></div></div></div>"
      ],
      "text/plain": [
       "LogisticRegression()"
      ]
     },
     "execution_count": 14,
     "metadata": {},
     "output_type": "execute_result"
    }
   ],
   "source": [
    "scaler=StandardScaler()\n",
    "X_train=scaler.fit_transform(X_train)\n",
    "X_test=scaler.transform(X_test)\n",
    "log_reg = LogisticRegression()\n",
    "\n",
    "log_reg.fit(X_train,Y_train)"
   ]
  },
  {
   "cell_type": "code",
   "execution_count": 15,
   "id": "6190d034",
   "metadata": {},
   "outputs": [
    {
     "data": {
      "text/plain": [
       "(182, 10)"
      ]
     },
     "execution_count": 15,
     "metadata": {},
     "output_type": "execute_result"
    }
   ],
   "source": [
    "X_train.shape"
   ]
  },
  {
   "cell_type": "code",
   "execution_count": 16,
   "id": "811e6a03",
   "metadata": {},
   "outputs": [
    {
     "data": {
      "text/plain": [
       "array([[ 5.03667137e-01, -1.30711137e+00,  5.78577631e-01,\n",
       "        -3.18484456e-01,  7.14407284e-01,  6.56863671e-01,\n",
       "         8.63138733e-04,  3.46358924e+00,  4.16343730e-01,\n",
       "         7.07930807e-01],\n",
       "       [-3.00433029e-01, -5.20467329e-01, -1.63053696e+00,\n",
       "        -3.66191593e-01,  2.83576068e-01, -7.00598078e-01,\n",
       "        -7.18972713e-01, -5.47037153e-01, -7.43950011e-01,\n",
       "        -7.24538731e-01],\n",
       "       [-3.00433029e-01,  3.97284058e-01, -5.25979664e-01,\n",
       "        -3.66191593e-01,  5.16088153e-01, -2.30114176e-01,\n",
       "        -1.86055563e-01, -3.65937939e-02, -2.07397992e-01,\n",
       "        -1.59436069e-01],\n",
       "       [ 7.71700526e-01, -1.92698976e-01,  5.78577631e-01,\n",
       "        -3.66191593e-01,  6.52859967e-01, -2.18672035e-02,\n",
       "         9.03454960e-02,  5.22463219e-01,  4.07573168e-02,\n",
       "         3.53098903e-01],\n",
       "       [ 1.30776730e+00, -1.70043340e+00, -8.94165429e-01,\n",
       "        -7.99487729e-02,  5.70796879e-01,  2.17231173e-01,\n",
       "        -3.13319360e-01,  1.20198593e-02,  3.40504166e-02,\n",
       "        -1.73300075e-03],\n",
       "       [ 7.71700526e-01, -7.17128340e-01, -8.94165429e-01,\n",
       "        -2.23070183e-01,  2.35705932e-01,  3.98356033e-02,\n",
       "         4.50263422e-01, -5.47037153e-01,  2.28550524e-01,\n",
       "        -3.95990672e-01],\n",
       "       [ 5.03667137e-01,  1.35069376e-01, -5.25979664e-01,\n",
       "        -3.66191593e-01,  7.55438828e-01,  1.96033546e+00,\n",
       "         2.36319737e+00,  1.03290658e+00,  2.25403440e+00,\n",
       "         1.79871036e+00],\n",
       "       [ 2.35633748e-01,  1.05282076e+00,  5.78577631e-01,\n",
       "        -3.66191593e-01,  1.53642844e-01, -8.08577990e-01,\n",
       "        -6.75225783e-01, -4.98423500e-01, -7.77484512e-01,\n",
       "        -7.24538731e-01],\n",
       "       [-5.68466418e-01,  2.66176717e-01, -1.57793899e-01,\n",
       "        -2.70777319e-01, -2.97704145e-01, -8.47142244e-01,\n",
       "        -5.14157540e-01, -7.90105420e-01, -7.57363812e-01,\n",
       "        -8.55957955e-01],\n",
       "       [ 2.35633748e-01,  9.21713421e-01, -5.25979664e-01,\n",
       "        -3.66191593e-01,  2.22028751e-01, -5.38628210e-01,\n",
       "        -6.71248789e-01, -5.22730327e-01, -6.16518907e-01,\n",
       "        -6.58829119e-01],\n",
       "       [ 7.71700526e-01,  3.96203503e-03,  1.31494916e+00,\n",
       "        -3.66191593e-01,  7.89631782e-01,  6.26012267e-01,\n",
       "         1.36099497e+00,  1.20305436e+00,  9.39481949e-01,\n",
       "         1.31245924e+00],\n",
       "       [ 2.35633748e-01,  7.25052410e-01, -1.26235119e+00,\n",
       "         4.92536866e-01, -1.22775249e+00, -9.93686410e-01,\n",
       "        -8.66121478e-01, -9.84560033e-01, -9.78691519e-01,\n",
       "        -9.08525644e-01],\n",
       "       [-5.68466418e-01,  9.87267092e-01, -1.57793899e-01,\n",
       "         1.10879774e-01, -1.48761893e+00, -1.00139926e+00,\n",
       "        -8.76063963e-01, -9.84560033e-01, -9.85398420e-01,\n",
       "        -9.21667567e-01],\n",
       "       [ 2.11186747e+00, -1.83154074e+00, -5.25979664e-01,\n",
       "        -3.66191593e-01,  1.05633682e+00, -3.30381237e-01,\n",
       "        -6.17559375e-01,  2.19963426e+00, -4.48846401e-01,\n",
       "         8.26208109e-01],\n",
       "       [ 1.03973391e+00, -4.54913658e-01, -1.57793899e-01,\n",
       "        -3.66191593e-01,  7.69116010e-01,  4.48616698e-01,\n",
       "        -1.82078569e-01,  7.89838312e-01,  2.35257424e-01,\n",
       "         6.29079273e-01],\n",
       "       [ 7.71700526e-01, -1.17600403e+00,  5.78577631e-01,\n",
       "        -2.70777319e-01,  5.29765334e-01, -3.99796895e-01,\n",
       "        -4.68422113e-01,  1.57860819e-01, -4.42139500e-01,\n",
       "        -1.59436069e-01],\n",
       "       [-5.68466418e-01, -5.20467329e-01, -5.25979664e-01,\n",
       "         1.11272964e+00, -5.02861867e-01, -3.14955536e-01,\n",
       "        -8.62144485e-01, -8.38719073e-01, -4.55553301e-01,\n",
       "        -8.42816033e-01],\n",
       "       [-1.10453320e+00,  9.21713421e-01,  2.05132069e+00,\n",
       "        -3.66191593e-01, -3.59251462e-01, -6.23469569e-01,\n",
       "        -5.36031005e-01, -9.84560033e-01, -6.03105106e-01,\n",
       "        -8.95383722e-01],\n",
       "       [-3.23996404e-02, -8.48235681e-01, -1.63053696e+00,\n",
       "        -3.66191593e-01,  7.89631782e-01, -4.07509746e-01,\n",
       "        -3.84905246e-01,  4.98156392e-01, -4.01898099e-01,\n",
       "         6.39766111e-02],\n",
       "       [-3.23996404e-02,  3.97284058e-01, -5.25979664e-01,\n",
       "         3.01708320e-01, -7.69566906e-01, -5.69479613e-01,\n",
       "        -8.60155988e-01, -8.87332726e-01, -6.63467208e-01,\n",
       "        -8.69099877e-01],\n",
       "       [ 7.71700526e-01, -1.30711137e+00, -1.57793899e-01,\n",
       "        -2.23070183e-01,  4.68218017e-01,  3.21227524e-02,\n",
       "        -1.46285627e-01, -1.09514274e-01, -3.97254860e-02,\n",
       "        -1.20010302e-01],\n",
       "       [-1.90863336e+00,  1.77391114e+00, -8.94165429e-01,\n",
       "         8.26486823e-01, -3.36823139e+00, -1.06310207e+00,\n",
       "        -9.05891415e-01, -1.15470782e+00, -1.04576052e+00,\n",
       "        -9.47951412e-01],\n",
       "       [-3.23996404e-02,  4.62837728e-01,  2.10391866e-01,\n",
       "        -3.66191593e-01,  5.91312651e-01,  3.21227524e-02,\n",
       "        -7.66882376e-02,  1.82167646e-01, -6.19098484e-03,\n",
       "         1.03402378e-01],\n",
       "       [-2.17666675e+00,  1.35069376e-01, -1.57793899e-01,\n",
       "        -2.70777319e-01, -7.21696771e-01, -8.70280796e-01,\n",
       "        -7.14995719e-01, -8.63025899e-01, -8.37846614e-01,\n",
       "        -8.82241800e-01],\n",
       "       [ 1.84383408e+00,  1.35069376e-01, -2.36690849e+00,\n",
       "         2.06294047e-01, -2.77188373e-01, -2.60965580e-01,\n",
       "        -7.26926700e-01, -8.87332726e-01, -3.95191199e-01,\n",
       "        -8.55957955e-01],\n",
       "       [ 7.71700526e-01, -4.54913658e-01, -1.26235119e+00,\n",
       "        -1.75363046e-01,  1.00324381e-02, -7.16023779e-01,\n",
       "        -8.44248013e-01, -7.41491766e-01, -7.90898313e-01,\n",
       "        -8.42816033e-01],\n",
       "       [-3.23996404e-02, -7.17128340e-01, -8.94165429e-01,\n",
       "        -3.66191593e-01,  7.41761647e-01,  7.06870066e-02,\n",
       "        -4.48722883e-02,  5.22463219e-01,  3.40504166e-02,\n",
       "         3.39956981e-01],\n",
       "       [-3.00433029e-01,  5.93945069e-01,  5.78577631e-01,\n",
       "        -3.66191593e-01,  6.46021377e-01,  2.43081936e+00,\n",
       "         9.25514164e-01,  5.22463219e-01,  1.95893079e+00,\n",
       "         1.19418194e+00],\n",
       "       [ 1.30776730e+00, -1.63487973e+00, -8.94165429e-01,\n",
       "        -3.66191593e-01,  1.00162810e+00,  9.34526301e-01,\n",
       "        -1.12535810e-03,  1.68919090e+00,  6.57792139e-01,\n",
       "         1.47016230e+00],\n",
       "       [-1.10453320e+00,  3.31730387e-01,  1.31494916e+00,\n",
       "        -3.66191593e-01, -1.67770921e-01, -9.39696454e-01,\n",
       "        -7.18972713e-01, -6.68571286e-01, -8.91501816e-01,\n",
       "        -8.42816033e-01],\n",
       "       [-1.64059997e+00,  1.24948177e+00,  2.05132069e+00,\n",
       "         2.40082233e+00, -2.00051324e+00, -9.31983603e-01,\n",
       "        -8.89983440e-01, -1.05748051e+00, -9.58570819e-01,\n",
       "        -9.34809489e-01],\n",
       "       [-3.23996404e-02,  1.24948177e+00,  5.78577631e-01,\n",
       "        -3.66191593e-01,  4.61379427e-01,  4.64042400e-01,\n",
       "        -2.01963538e-01, -1.22869673e-02,  2.41964324e-01,\n",
       "         6.39766111e-02],\n",
       "       [ 5.03667137e-01,  5.93945069e-01, -5.25979664e-01,\n",
       "         2.73477229e+00, -9.13177312e-01, -9.08845051e-01,\n",
       "        -8.62144485e-01, -9.11639553e-01, -9.25036318e-01,\n",
       "        -8.95383722e-01],\n",
       "       [-8.36499807e-01,  7.90606081e-01, -1.57793899e-01,\n",
       "         1.58586910e-01, -1.25510685e+00, -8.00865139e-01,\n",
       "        -8.80040956e-01, -9.60253206e-01, -8.51260415e-01,\n",
       "        -9.08525644e-01],\n",
       "       [ 1.03973391e+00, -3.89359988e-01,  2.10391866e-01,\n",
       "        -3.66191593e-01,  7.55438828e-01,  6.72289372e-01,\n",
       "         9.23339928e-02,  8.38451965e-01,  4.36464431e-01,\n",
       "         7.86782342e-01],\n",
       "       [ 2.35633748e-01,  6.95157055e-02,  5.78577631e-01,\n",
       "         1.58586910e-01, -3.45574280e-01,  4.48616698e-01,\n",
       "         8.23915087e-02, -7.65798593e-01,  2.95619526e-01,\n",
       "        -6.19403352e-01],\n",
       "       [-5.68466418e-01,  1.05282076e+00,  1.68313493e+00,\n",
       "        -1.27655909e-01, -1.28929980e+00, -8.08577990e-01,\n",
       "        -8.87994944e-01, -9.11639553e-01, -8.64674215e-01,\n",
       "        -8.95383722e-01],\n",
       "       [-3.00433029e-01,  1.35069376e-01,  9.46763396e-01,\n",
       "        -3.66191593e-01,  6.11828423e-01,  2.09518322e-01,\n",
       "         3.84643027e-01,  4.73849565e-01,  2.88912626e-01,\n",
       "         4.45092360e-01],\n",
       "       [-8.36499807e-01, -3.23806317e-01,  9.46763396e-01,\n",
       "        -3.66191593e-01, -8.31114223e-01, -9.01132200e-01,\n",
       "        -8.91971937e-01, -8.38719073e-01, -9.31743218e-01,\n",
       "        -8.82241800e-01],\n",
       "       [ 2.35633748e-01,  5.28391399e-01,  5.78577631e-01,\n",
       "        -3.66191593e-01,  5.16088153e-01,  2.63508278e-01,\n",
       "         3.78677536e-01,  1.09247166e-01,  3.42567828e-01,\n",
       "         2.08537757e-01],\n",
       "       [ 2.35633748e-01,  3.97284058e-01, -1.57793899e-01,\n",
       "        -3.66191593e-01,  5.63958288e-01,  6.80002223e-01,\n",
       "        -1.70333327e-02,  1.09247166e-01,  4.43171331e-01,\n",
       "         2.47963524e-01],\n",
       "       [ 5.03667137e-01, -1.30711137e+00, -1.57793899e-01,\n",
       "         4.44829730e-01,  1.26288481e-01, -2.37827027e-01,\n",
       "        -8.74075466e-01, -6.19957633e-01, -3.88484298e-01,\n",
       "        -6.58829119e-01],\n",
       "       [ 5.03667137e-01, -5.86020999e-01,  9.46763396e-01,\n",
       "        -3.66191593e-01,  7.62277419e-01,  5.02606654e-01,\n",
       "         5.53665257e-01,  1.08152023e+00,  5.70602436e-01,\n",
       "         1.02333694e+00],\n",
       "       [-3.23996404e-02,  6.95157055e-02, -5.25979664e-01,\n",
       "        -3.66191593e-01,  6.25505604e-01, -3.22668386e-01,\n",
       "        -3.07353870e-01,  2.06474472e-01, -3.21415296e-01,\n",
       "        -5.43006902e-02],\n",
       "       [ 1.03973391e+00, -2.15930909e+00,  9.46763396e-01,\n",
       "        -3.66191593e-01,  1.09736837e+00,  1.89091981e+00,\n",
       "         5.59630748e-01,  3.34205511e+00,  1.48944777e+00,\n",
       "         2.99462530e+00],\n",
       "       [ 7.71700526e-01,  6.95157055e-02, -1.57793899e-01,\n",
       "        -3.66191593e-01,  6.25505604e-01,  3.02072532e-01,\n",
       "         6.49113105e-01,  2.79394952e-01,  4.76705832e-01,\n",
       "         3.92524670e-01],\n",
       "       [-5.68466418e-01,  1.18392810e+00,  1.31494916e+00,\n",
       "        -1.75363046e-01, -1.17304376e+00, -7.62300885e-01,\n",
       "        -7.05053235e-01, -8.87332726e-01, -7.64070712e-01,\n",
       "        -8.82241800e-01],\n",
       "       [-5.68466418e-01,  1.35069376e-01, -5.25979664e-01,\n",
       "        -3.66191593e-01,  1.05772708e-01, -7.62300885e-01,\n",
       "        -7.36869185e-01, -6.19957633e-01, -7.84191413e-01,\n",
       "        -8.16532188e-01],\n",
       "       [ 5.03667137e-01,  5.28391399e-01,  2.10391866e-01,\n",
       "        -3.66191593e-01,  5.57119697e-01, -1.76124220e-01,\n",
       "        -5.34042508e-01,  1.57860819e-01, -3.08001496e-01,\n",
       "        -6.74426126e-02],\n",
       "       [-5.68466418e-01,  1.18392810e+00, -1.57793899e-01,\n",
       "        -3.66191593e-01,  3.58800566e-01, -5.54053912e-01,\n",
       "        -3.57066290e-01, -3.03968887e-01, -4.89087802e-01,\n",
       "        -4.61700284e-01],\n",
       "       [ 5.03667137e-01, -3.89359988e-01,  5.78577631e-01,\n",
       "        -3.18484456e-01,  4.68218017e-01, -4.15222597e-01,\n",
       "        -5.00238062e-01, -1.22869673e-02, -4.68967101e-01,\n",
       "        -2.64571448e-01],\n",
       "       [-3.00433029e-01,  4.62837728e-01,  5.78577631e-01,\n",
       "         1.87604383e+00, -1.07046490e+00, -8.62567945e-01,\n",
       "        -8.84017950e-01, -8.87332726e-01, -9.04915617e-01,\n",
       "        -8.95383722e-01],\n",
       "       [-1.37256658e+00,  9.87267092e-01,  2.10391866e-01,\n",
       "        -3.66191593e-01, -8.92661539e-01, -9.31983603e-01,\n",
       "        -7.60731147e-01, -8.63025899e-01, -8.98208717e-01,\n",
       "        -8.82241800e-01],\n",
       "       [ 1.03973391e+00, -5.86020999e-01,  2.10391866e-01,\n",
       "        -3.66191593e-01,  7.96470373e-01,  1.73666279e+00,\n",
       "         2.16832468e+00,  1.37320215e+00,  2.02599979e+00,\n",
       "         1.98269728e+00],\n",
       "       [ 2.35633748e-01,  3.96203503e-03, -1.99872272e+00,\n",
       "         3.78432929e+00, -8.44791404e-01, -8.08577990e-01,\n",
       "        -8.78052459e-01, -9.35946379e-01, -8.64674215e-01,\n",
       "        -8.95383722e-01],\n",
       "       [ 7.71700526e-01,  3.97284058e-01,  1.31494916e+00,\n",
       "        -3.66191593e-01,  7.14407284e-01,  8.34259240e-01,\n",
       "         1.55387916e+00,  9.84292925e-01,  1.16751656e+00,\n",
       "         1.25989155e+00],\n",
       "       [-8.36499807e-01, -6.15916354e-02, -8.94165429e-01,\n",
       "         2.54001183e-01, -9.20015902e-01, -8.47142244e-01,\n",
       "        -8.91971937e-01, -9.11639553e-01, -8.98208717e-01,\n",
       "        -8.95383722e-01],\n",
       "       [-1.37256658e+00,  1.64280380e+00,  4.99680681e+00,\n",
       "        -1.27655909e-01, -2.18515519e+00, -8.93419349e-01,\n",
       "        -8.86006447e-01, -1.05748051e+00, -9.31743218e-01,\n",
       "        -9.21667567e-01],\n",
       "       [-1.37256658e+00, -2.58252647e-01,  5.78577631e-01,\n",
       "        -3.66191593e-01,  7.55438828e-01,  4.79468101e-01,\n",
       "        -2.91445895e-01,  9.59986098e-01,  2.62085025e-01,\n",
       "         7.47356574e-01],\n",
       "       [-3.00433029e-01,  2.00623046e-01, -5.25979664e-01,\n",
       "        -3.66191593e-01,  4.54540836e-01, -1.99262773e-01,\n",
       "         3.66560816e-02, -1.82434754e-01, -1.00087588e-01,\n",
       "        -2.12003759e-01],\n",
       "       [ 5.03667137e-01, -1.11045036e+00,  9.46763396e-01,\n",
       "        -3.66191593e-01,  8.64856280e-01,  2.78933979e-01,\n",
       "        -1.20435168e-01,  1.59196359e+00,  9.44125187e-02,\n",
       "         1.02333694e+00]])"
      ]
     },
     "execution_count": 16,
     "metadata": {},
     "output_type": "execute_result"
    }
   ],
   "source": [
    "X_test"
   ]
  },
  {
   "cell_type": "code",
   "execution_count": 17,
   "id": "d0c4fcb5",
   "metadata": {},
   "outputs": [
    {
     "data": {
      "text/plain": [
       "array([[ 1.03973391,  0.00396204,  0.21039187, ...,  0.54677005,\n",
       "        -0.05984619,  0.30053121],\n",
       "       [-0.03239964, -0.97934302, -0.52597966, ..., -0.71718494,\n",
       "        -0.70370861, -0.82967411],\n",
       "       [-0.30043303, -0.45491366, -1.63053696, ...,  0.15786082,\n",
       "         0.12794702,  0.14282815],\n",
       "       ...,\n",
       "       [-0.56846642, -1.37266504, -0.1577939 , ...,  0.88706562,\n",
       "        -0.28117389,  0.36624083],\n",
       "       [ 1.57580069, -1.2415577 , -0.89416543, ..., -0.15812793,\n",
       "        -0.24093249, -0.26457145],\n",
       "       [ 1.3077673 , -0.586021  , -0.52597966, ...,  0.78983831,\n",
       "         1.89186178,  1.43073654]])"
      ]
     },
     "execution_count": 17,
     "metadata": {},
     "output_type": "execute_result"
    }
   ],
   "source": [
    "X_train"
   ]
  },
  {
   "cell_type": "markdown",
   "id": "9d52b936",
   "metadata": {},
   "source": [
    "##saving the model"
   ]
  },
  {
   "cell_type": "code",
   "execution_count": 18,
   "id": "5e14f273",
   "metadata": {},
   "outputs": [],
   "source": [
    "\n",
    "import pickle\n",
    "# Writing different model files to file\n",
    "with open( 'log_regress_modelForPrediction.sav', 'wb') as f:\n",
    "    pickle.dump(log_reg,f)\n",
    "    \n",
    "with open('sandardScalar.sav', 'wb') as f:\n",
    "    pickle.dump(scaler,f)"
   ]
  },
  {
   "cell_type": "code",
   "execution_count": 19,
   "id": "563796fd",
   "metadata": {},
   "outputs": [],
   "source": [
    "Y_pred = log_reg.predict(X_test)"
   ]
  },
  {
   "cell_type": "code",
   "execution_count": 20,
   "id": "d5078797",
   "metadata": {},
   "outputs": [
    {
     "name": "stdout",
     "output_type": "stream",
     "text": [
      "Performace Matrics for Logistic Regression\n",
      "conf_mat\n",
      " [[27  2]\n",
      " [ 0 32]]\n",
      "Accuracy 0.9672131147540983\n"
     ]
    }
   ],
   "source": [
    "print('Performace Matrics for Logistic Regression')\n",
    "# Confusion Matrix\n",
    "conf_mat = confusion_matrix(Y_test,Y_pred)\n",
    "print('conf_mat\\n',conf_mat)\n",
    "true_positive = conf_mat[0][0]\n",
    "false_positive = conf_mat[0][1]\n",
    "false_negative = conf_mat[1][0]\n",
    "true_negative = conf_mat[1][1]\n",
    "# Breaking down the formula for Accuracy\n",
    "Accuracy = (true_positive + true_negative) / (true_positive +false_positive + false_negative + true_negative)\n",
    "print('Accuracy',Accuracy)"
   ]
  },
  {
   "cell_type": "markdown",
   "id": "df4ebb03",
   "metadata": {},
   "source": [
    "#### For an imbalanced dataset, other performance metrics should be used  Precison,Recall, F1 score"
   ]
  },
  {
   "cell_type": "code",
   "execution_count": 21,
   "id": "a513e1f0",
   "metadata": {},
   "outputs": [
    {
     "name": "stdout",
     "output_type": "stream",
     "text": [
      "Precision 0.9310344827586207\n",
      "Recall 1.0\n",
      "F1_Score 0.9642857142857143\n"
     ]
    }
   ],
   "source": [
    "# Precison\n",
    "Precision = true_positive/(true_positive+false_positive)\n",
    "print('Precision',Precision)\n",
    "# Recall\n",
    "Recall = true_positive/(true_positive+false_negative)\n",
    "print('Recall',Recall)\n",
    "\n",
    "# F1 Score\n",
    "F1_Score = 2*(Recall * Precision) / (Recall + Precision)\n",
    "print('F1_Score',F1_Score)"
   ]
  },
  {
   "cell_type": "markdown",
   "id": "e577e458",
   "metadata": {},
   "source": [
    "#### Precision or  Recall : it depends on the business requirement and type of Business .For example, if you are predicting fire, you need a 100 % recall. But suppose you are predicting whether a person is innocent or not, you need 100% precision. Can we maximise both at the same time? No,So, there is a need for a better metric then?Yes. And it’s called an F1 Score"
   ]
  },
  {
   "cell_type": "markdown",
   "id": "aa32243f",
   "metadata": {},
   "source": [
    "### Creating a balanced dataset from imbalanced data:\n",
    "\n",
    "##### 1.Use the right evaluation metrics:Confusion Matrix,Precision,Recall,F1score\n",
    "##### 2.Undersampling\n",
    "##### 3.Oversampling\n",
    "##### 4.Creating synthetic data\n",
    "##### 5.Cost sensitive learning\n",
    "##### 6.Ensemble methods"
   ]
  },
  {
   "cell_type": "markdown",
   "id": "8d6e6f9f",
   "metadata": {},
   "source": [
    "#### Before changing the dataset, we must split the dataset into training and testing because the change is only for the training purpose."
   ]
  },
  {
   "cell_type": "markdown",
   "id": "514c3649",
   "metadata": {},
   "source": [
    "### Undersampling\n",
    "* resamples the majority class points in the data to make them equal to the minority class points. We will be creating a new dataset out of the original dataset using undersampling. "
   ]
  },
  {
   "cell_type": "code",
   "execution_count": 22,
   "id": "bd850520",
   "metadata": {},
   "outputs": [
    {
     "name": "stdout",
     "output_type": "stream",
     "text": [
      "Requirement already satisfied: imbalanced-learn in c:\\users\\pc\\appdata\\roaming\\python\\python38\\site-packages (0.9.1)\n",
      "Requirement already satisfied: scipy>=1.3.2 in d:\\anaconda\\lib\\site-packages (from imbalanced-learn) (1.6.2)\n",
      "Requirement already satisfied: scikit-learn>=1.1.0 in d:\\anaconda\\lib\\site-packages (from imbalanced-learn) (1.1.2)\n",
      "Requirement already satisfied: threadpoolctl>=2.0.0 in d:\\anaconda\\lib\\site-packages (from imbalanced-learn) (2.1.0)\n",
      "Requirement already satisfied: numpy>=1.17.3 in d:\\anaconda\\lib\\site-packages (from imbalanced-learn) (1.19.5)\n",
      "Requirement already satisfied: joblib>=1.0.0 in d:\\anaconda\\lib\\site-packages (from imbalanced-learn) (1.1.0)\n"
     ]
    }
   ],
   "source": [
    "\n",
    "!pip install --user imbalanced-learn"
   ]
  },
  {
   "cell_type": "markdown",
   "id": "b8145304",
   "metadata": {},
   "source": [
    "** importing UnderSampler from imbalanced learned library"
   ]
  },
  {
   "cell_type": "code",
   "execution_count": 23,
   "id": "f9d519ef",
   "metadata": {},
   "outputs": [],
   "source": [
    "X_train,X_test,Y_train,Y_test = train_test_split(X,Y, test_size= 0.25, random_state = 45)"
   ]
  },
  {
   "cell_type": "code",
   "execution_count": 24,
   "id": "8862583f",
   "metadata": {},
   "outputs": [],
   "source": [
    "from imblearn.under_sampling import RandomUnderSampler\n",
    "rus = RandomUnderSampler(random_state=0)\n",
    "X_train_US,Y_train_US =rus.fit_resample(X_train, Y_train)"
   ]
  },
  {
   "cell_type": "code",
   "execution_count": 25,
   "id": "e2e06601",
   "metadata": {},
   "outputs": [
    {
     "data": {
      "text/plain": [
       "(154, 10)"
      ]
     },
     "execution_count": 25,
     "metadata": {},
     "output_type": "execute_result"
    }
   ],
   "source": [
    "X_train_US.shape"
   ]
  },
  {
   "cell_type": "code",
   "execution_count": 26,
   "id": "5cd0e446",
   "metadata": {},
   "outputs": [
    {
     "data": {
      "text/plain": [
       "(154,)"
      ]
     },
     "execution_count": 26,
     "metadata": {},
     "output_type": "execute_result"
    }
   ],
   "source": [
    "Y_train_US.shape"
   ]
  },
  {
   "cell_type": "markdown",
   "id": "1b1efd8c",
   "metadata": {},
   "source": [
    "* Now, we can see that the X_train has fewer observations(154) than the original one (182)"
   ]
  },
  {
   "cell_type": "code",
   "execution_count": 27,
   "id": "b8c51d9d",
   "metadata": {},
   "outputs": [
    {
     "data": {
      "text/html": [
       "<style>#sk-container-id-2 {color: black;background-color: white;}#sk-container-id-2 pre{padding: 0;}#sk-container-id-2 div.sk-toggleable {background-color: white;}#sk-container-id-2 label.sk-toggleable__label {cursor: pointer;display: block;width: 100%;margin-bottom: 0;padding: 0.3em;box-sizing: border-box;text-align: center;}#sk-container-id-2 label.sk-toggleable__label-arrow:before {content: \"▸\";float: left;margin-right: 0.25em;color: #696969;}#sk-container-id-2 label.sk-toggleable__label-arrow:hover:before {color: black;}#sk-container-id-2 div.sk-estimator:hover label.sk-toggleable__label-arrow:before {color: black;}#sk-container-id-2 div.sk-toggleable__content {max-height: 0;max-width: 0;overflow: hidden;text-align: left;background-color: #f0f8ff;}#sk-container-id-2 div.sk-toggleable__content pre {margin: 0.2em;color: black;border-radius: 0.25em;background-color: #f0f8ff;}#sk-container-id-2 input.sk-toggleable__control:checked~div.sk-toggleable__content {max-height: 200px;max-width: 100%;overflow: auto;}#sk-container-id-2 input.sk-toggleable__control:checked~label.sk-toggleable__label-arrow:before {content: \"▾\";}#sk-container-id-2 div.sk-estimator input.sk-toggleable__control:checked~label.sk-toggleable__label {background-color: #d4ebff;}#sk-container-id-2 div.sk-label input.sk-toggleable__control:checked~label.sk-toggleable__label {background-color: #d4ebff;}#sk-container-id-2 input.sk-hidden--visually {border: 0;clip: rect(1px 1px 1px 1px);clip: rect(1px, 1px, 1px, 1px);height: 1px;margin: -1px;overflow: hidden;padding: 0;position: absolute;width: 1px;}#sk-container-id-2 div.sk-estimator {font-family: monospace;background-color: #f0f8ff;border: 1px dotted black;border-radius: 0.25em;box-sizing: border-box;margin-bottom: 0.5em;}#sk-container-id-2 div.sk-estimator:hover {background-color: #d4ebff;}#sk-container-id-2 div.sk-parallel-item::after {content: \"\";width: 100%;border-bottom: 1px solid gray;flex-grow: 1;}#sk-container-id-2 div.sk-label:hover label.sk-toggleable__label {background-color: #d4ebff;}#sk-container-id-2 div.sk-serial::before {content: \"\";position: absolute;border-left: 1px solid gray;box-sizing: border-box;top: 0;bottom: 0;left: 50%;z-index: 0;}#sk-container-id-2 div.sk-serial {display: flex;flex-direction: column;align-items: center;background-color: white;padding-right: 0.2em;padding-left: 0.2em;position: relative;}#sk-container-id-2 div.sk-item {position: relative;z-index: 1;}#sk-container-id-2 div.sk-parallel {display: flex;align-items: stretch;justify-content: center;background-color: white;position: relative;}#sk-container-id-2 div.sk-item::before, #sk-container-id-2 div.sk-parallel-item::before {content: \"\";position: absolute;border-left: 1px solid gray;box-sizing: border-box;top: 0;bottom: 0;left: 50%;z-index: -1;}#sk-container-id-2 div.sk-parallel-item {display: flex;flex-direction: column;z-index: 1;position: relative;background-color: white;}#sk-container-id-2 div.sk-parallel-item:first-child::after {align-self: flex-end;width: 50%;}#sk-container-id-2 div.sk-parallel-item:last-child::after {align-self: flex-start;width: 50%;}#sk-container-id-2 div.sk-parallel-item:only-child::after {width: 0;}#sk-container-id-2 div.sk-dashed-wrapped {border: 1px dashed gray;margin: 0 0.4em 0.5em 0.4em;box-sizing: border-box;padding-bottom: 0.4em;background-color: white;}#sk-container-id-2 div.sk-label label {font-family: monospace;font-weight: bold;display: inline-block;line-height: 1.2em;}#sk-container-id-2 div.sk-label-container {text-align: center;}#sk-container-id-2 div.sk-container {/* jupyter's `normalize.less` sets `[hidden] { display: none; }` but bootstrap.min.css set `[hidden] { display: none !important; }` so we also need the `!important` here to be able to override the default hidden behavior on the sphinx rendered scikit-learn.org. See: https://github.com/scikit-learn/scikit-learn/issues/21755 */display: inline-block !important;position: relative;}#sk-container-id-2 div.sk-text-repr-fallback {display: none;}</style><div id=\"sk-container-id-2\" class=\"sk-top-container\"><div class=\"sk-text-repr-fallback\"><pre>LogisticRegression()</pre><b>In a Jupyter environment, please rerun this cell to show the HTML representation or trust the notebook. <br />On GitHub, the HTML representation is unable to render, please try loading this page with nbviewer.org.</b></div><div class=\"sk-container\" hidden><div class=\"sk-item\"><div class=\"sk-estimator sk-toggleable\"><input class=\"sk-toggleable__control sk-hidden--visually\" id=\"sk-estimator-id-2\" type=\"checkbox\" checked><label for=\"sk-estimator-id-2\" class=\"sk-toggleable__label sk-toggleable__label-arrow\">LogisticRegression</label><div class=\"sk-toggleable__content\"><pre>LogisticRegression()</pre></div></div></div></div></div>"
      ],
      "text/plain": [
       "LogisticRegression()"
      ]
     },
     "execution_count": 27,
     "metadata": {},
     "output_type": "execute_result"
    }
   ],
   "source": [
    "scaler=StandardScaler()\n",
    "X_train=scaler.fit_transform(X_train_US)\n",
    "X_test=scaler.transform(X_test)\n",
    "log_reg = LogisticRegression()\n",
    "\n",
    "log_reg.fit(X_train_US,Y_train_US)"
   ]
  },
  {
   "cell_type": "code",
   "execution_count": 28,
   "id": "5cc14e8f",
   "metadata": {},
   "outputs": [
    {
     "data": {
      "text/plain": [
       "array([[-0.04205512, -1.01645766, -0.53244583, ..., -0.70974817,\n",
       "        -0.69655999, -0.82628833],\n",
       "       [-0.31825498,  0.33511121,  0.53684621, ..., -0.56501911,\n",
       "        -0.4923219 , -0.63774229],\n",
       "       [-1.97545412,  1.0784741 , -0.17601515, ..., -1.11981387,\n",
       "        -1.05573732, -0.9474965 ],\n",
       "       ...,\n",
       "       [-0.04205512,  0.87573876, -0.53244583, ...,  0.11038321,\n",
       "        -0.17540073, -0.03170145],\n",
       "       [-0.04205512,  0.26753277,  0.53684621, ...,  0.20686926,\n",
       "        -0.12610188,  0.06257157],\n",
       "       [-0.59445484, -1.42192833, -0.17601515, ...,  0.88227158,\n",
       "        -0.25287035,  0.39926093]])"
      ]
     },
     "execution_count": 28,
     "metadata": {},
     "output_type": "execute_result"
    }
   ],
   "source": [
    "X_train_US"
   ]
  },
  {
   "cell_type": "code",
   "execution_count": 29,
   "id": "26512c9c",
   "metadata": {},
   "outputs": [
    {
     "data": {
      "text/plain": [
       "array([[ 5.75916879e-01, -1.32331131e+00,  5.56851627e-01,\n",
       "        -3.54770173e-01,  7.96725794e-01,  7.40543070e-01,\n",
       "         8.10985787e-02,  3.65743859e+00,  5.05573696e-01,\n",
       "         8.11657680e-01],\n",
       "       [-2.23102935e-01, -5.50159461e-01, -1.62336406e+00,\n",
       "        -3.99152469e-01,  3.82989582e-01, -6.21079572e-01,\n",
       "        -6.49995142e-01, -4.56026403e-01, -6.65075914e-01,\n",
       "        -6.31767028e-01],\n",
       "       [-2.23102935e-01,  3.51851032e-01, -5.33256219e-01,\n",
       "        -3.99152469e-01,  6.06275792e-01, -1.49153543e-01,\n",
       "        -1.08743437e-01,  6.75055058e-02, -1.23735054e-01,\n",
       "        -6.23426018e-02],\n",
       "       [ 8.42256817e-01, -2.28012856e-01,  5.56851627e-01,\n",
       "        -3.99152469e-01,  7.37620621e-01,  5.97317489e-02,\n",
       "         1.71980395e-01,  6.40897596e-01,  1.26635094e-01,\n",
       "         4.54112110e-01],\n",
       "       [ 1.37493669e+00, -1.70988724e+00, -8.96625501e-01,\n",
       "        -1.32858692e-01,  6.58813723e-01,  2.99563010e-01,\n",
       "        -2.37997575e-01,  1.17365688e-01,  1.19868333e-01,\n",
       "         9.65665404e-02],\n",
       "       [ 8.42256817e-01, -7.43447423e-01, -8.96625501e-01,\n",
       "        -2.66005581e-01,  3.37018892e-01,  1.21623687e-01,\n",
       "         5.37527255e-01, -4.56026403e-01,  3.16104395e-01,\n",
       "        -3.00706315e-01],\n",
       "       [ 5.75916879e-01,  9.41337480e-02, -5.33256219e-01,\n",
       "        -3.99152469e-01,  8.36129243e-01,  2.04801027e+00,\n",
       "         2.48037852e+00,  1.16442950e+00,  2.35966614e+00,\n",
       "         1.91077925e+00],\n",
       "       [ 3.09576941e-01,  9.96144240e-01,  5.56851627e-01,\n",
       "        -3.99152469e-01,  2.58211994e-01, -7.29390464e-01,\n",
       "        -6.05564032e-01, -4.06166221e-01, -6.98909718e-01,\n",
       "        -6.31767028e-01],\n",
       "       [-4.89442873e-01,  2.22992390e-01, -1.69886937e-01,\n",
       "        -3.10387877e-01, -1.75225943e-01, -7.68072926e-01,\n",
       "        -4.41976763e-01, -7.05327311e-01, -6.78609436e-01,\n",
       "        -7.64191313e-01],\n",
       "       [ 3.09576941e-01,  8.67285599e-01, -5.33256219e-01,\n",
       "        -3.99152469e-01,  3.23884409e-01, -4.58613234e-01,\n",
       "        -6.01524840e-01, -4.31096312e-01, -5.36507460e-01,\n",
       "        -5.65554885e-01],\n",
       "       [ 8.42256817e-01, -3.47248937e-02,  1.28359019e+00,\n",
       "        -3.99152469e-01,  8.68965450e-01,  7.09597101e-01,\n",
       "         1.46250218e+00,  1.33894014e+00,  1.03338104e+00,\n",
       "         1.42080939e+00],\n",
       "       [ 3.09576941e-01,  6.73997636e-01, -1.25999478e+00,\n",
       "         3.99728863e-01, -1.06837078e+00, -9.15066279e-01,\n",
       "        -7.99445239e-01, -9.04768038e-01, -9.01912541e-01,\n",
       "        -8.17161027e-01],\n",
       "       [-4.89442873e-01,  9.31714919e-01, -1.69886937e-01,\n",
       "         4.46704930e-02, -1.31792596e+00, -9.22802771e-01,\n",
       "        -8.09543219e-01, -9.04768038e-01, -9.08679301e-01,\n",
       "        -8.30403456e-01],\n",
       "       [ 2.17395651e+00, -1.83874588e+00, -5.33256219e-01,\n",
       "        -3.99152469e-01,  1.12508787e+00, -2.49727943e-01,\n",
       "        -5.46995750e-01,  2.36107387e+00, -3.67338441e-01,\n",
       "         9.30839537e-01],\n",
       "       [ 1.10859675e+00, -4.85730140e-01, -1.69886937e-01,\n",
       "        -3.99152469e-01,  8.49263726e-01,  5.31657778e-01,\n",
       "        -1.04704245e-01,  9.15128595e-01,  3.22871156e-01,\n",
       "         7.32203109e-01],\n",
       "       [ 8.42256817e-01, -1.19445267e+00,  5.56851627e-01,\n",
       "        -3.10387877e-01,  6.19410275e-01, -3.19356373e-01,\n",
       "        -3.95526057e-01,  2.66946233e-01, -3.60571680e-01,\n",
       "        -6.23426018e-02],\n",
       "       [-4.89442873e-01, -5.50159461e-01, -5.33256219e-01,\n",
       "         9.76698714e-01, -3.72243187e-01, -2.34254958e-01,\n",
       "        -7.95406047e-01, -7.55187493e-01, -3.74105202e-01,\n",
       "        -7.50948885e-01],\n",
       "       [-1.02212275e+00,  8.67285599e-01,  2.01032875e+00,\n",
       "        -3.99152469e-01, -2.34331116e-01, -5.43714649e-01,\n",
       "        -4.64192318e-01, -9.04768038e-01, -5.22973938e-01,\n",
       "        -8.03918599e-01],\n",
       "       [ 4.32370029e-02, -8.72306065e-01, -1.62336406e+00,\n",
       "        -3.99152469e-01,  8.68965450e-01, -3.27092865e-01,\n",
       "        -3.10703028e-01,  6.15967505e-01, -3.19971116e-01,\n",
       "         1.62778683e-01],\n",
       "       [ 4.32370029e-02,  3.51851032e-01, -5.33256219e-01,\n",
       "         2.22199678e-01, -6.28365604e-01, -4.89559203e-01,\n",
       "        -7.93386451e-01, -8.05047675e-01, -5.83874785e-01,\n",
       "        -7.77433742e-01],\n",
       "       [ 8.42256817e-01, -1.32331131e+00, -1.69886937e-01,\n",
       "        -2.66005581e-01,  5.60305101e-01,  1.13887195e-01,\n",
       "        -6.83515188e-02, -7.28476681e-03,  4.54339651e-02,\n",
       "        -2.26153162e-02],\n",
       "       [-1.82114256e+00,  1.70486677e+00, -8.96625501e-01,\n",
       "         7.10404937e-01, -3.12391736e+00, -9.84694710e-01,\n",
       "        -8.39837157e-01, -1.07927867e+00, -9.69580148e-01,\n",
       "        -8.56888313e-01],\n",
       "       [ 4.32370029e-02,  4.16280352e-01,  1.93482345e-01,\n",
       "        -3.99152469e-01,  6.78515448e-01,  1.13887195e-01,\n",
       "         2.33433813e-03,  2.91876324e-01,  7.92677688e-02,\n",
       "         2.02505969e-01],\n",
       "       [-2.08748250e+00,  9.41337480e-02, -1.69886937e-01,\n",
       "        -3.10387877e-01, -5.82394914e-01, -7.91282403e-01,\n",
       "        -6.45955950e-01, -7.80117584e-01, -7.59810565e-01,\n",
       "        -7.90676170e-01],\n",
       "       [ 1.90761657e+00,  9.41337480e-02, -2.35010263e+00,\n",
       "         1.33435085e-01, -1.55524218e-01, -1.80099512e-01,\n",
       "        -6.58073525e-01, -8.05047675e-01, -3.13204355e-01,\n",
       "        -7.64191313e-01],\n",
       "       [ 8.42256817e-01, -4.85730140e-01, -1.25999478e+00,\n",
       "        -2.21623284e-01,  1.20299923e-01, -6.36552557e-01,\n",
       "        -7.77229684e-01, -6.55467129e-01, -7.12443239e-01,\n",
       "        -7.50948885e-01],\n",
       "       [ 4.32370029e-02, -7.43447423e-01, -8.96625501e-01,\n",
       "        -3.99152469e-01,  8.22994760e-01,  1.52569656e-01,\n",
       "         3.46478727e-02,  6.40897596e-01,  1.19868333e-01,\n",
       "         4.40869682e-01],\n",
       "       [-2.23102935e-01,  5.45138994e-01,  5.56851627e-01,\n",
       "        -3.99152469e-01,  7.31053380e-01,  2.51993630e+00,\n",
       "         1.02021068e+00,  6.40897596e-01,  2.06192867e+00,\n",
       "         1.30162754e+00],\n",
       "       [ 1.37493669e+00, -1.64545792e+00, -8.96625501e-01,\n",
       "        -3.99152469e-01,  1.07254994e+00,  1.01905679e+00,\n",
       "         7.90789828e-02,  1.83754196e+00,  7.49177084e-01,\n",
       "         1.57971853e+00],\n",
       "       [-1.02212275e+00,  2.87421711e-01,  1.28359019e+00,\n",
       "        -3.99152469e-01, -5.04483549e-02, -8.60910833e-01,\n",
       "        -6.49995142e-01, -5.80676857e-01, -8.13944651e-01,\n",
       "        -7.50948885e-01],\n",
       "       [-1.55480262e+00,  1.18943220e+00,  2.01032875e+00,\n",
       "         2.17502071e+00, -1.81046907e+00, -8.53174341e-01,\n",
       "        -8.23680390e-01, -9.79558311e-01, -8.81612258e-01,\n",
       "        -8.43645884e-01],\n",
       "       [ 4.32370029e-02,  1.18943220e+00,  5.56851627e-01,\n",
       "        -3.99152469e-01,  5.53737860e-01,  5.47130763e-01,\n",
       "        -1.24900204e-01,  9.24355967e-02,  3.29637917e-01,\n",
       "         1.62778683e-01],\n",
       "       [ 5.75916879e-01,  5.45138994e-01, -5.33256219e-01,\n",
       "         2.48569679e+00, -7.66277675e-01, -8.29964864e-01,\n",
       "        -7.95406047e-01, -8.29977766e-01, -8.47778455e-01,\n",
       "        -8.03918599e-01],\n",
       "       [-7.55782811e-01,  7.38426957e-01, -1.69886937e-01,\n",
       "         8.90527892e-02, -1.09463975e+00, -7.21653972e-01,\n",
       "        -8.13582411e-01, -8.79837947e-01, -7.73344086e-01,\n",
       "        -8.17161027e-01],\n",
       "       [ 1.10859675e+00, -4.21300819e-01,  1.93482345e-01,\n",
       "        -3.99152469e-01,  8.36129243e-01,  7.56016055e-01,\n",
       "         1.73999991e-01,  9.64988777e-01,  5.25873979e-01,\n",
       "         8.91112251e-01],\n",
       "       [ 3.09576941e-01,  2.97044272e-02,  5.56851627e-01,\n",
       "         8.90527892e-02, -2.21196633e-01,  5.31657778e-01,\n",
       "         1.63902011e-01, -6.80397220e-01,  3.83772003e-01,\n",
       "        -5.25827600e-01],\n",
       "       [-4.89442873e-01,  9.96144240e-01,  1.64695947e+00,\n",
       "        -1.77240988e-01, -1.12747596e+00, -7.29390464e-01,\n",
       "        -8.21660794e-01, -8.29977766e-01, -7.86877608e-01,\n",
       "        -8.03918599e-01],\n",
       "       [-2.23102935e-01,  9.41337480e-02,  9.20220909e-01,\n",
       "        -3.99152469e-01,  6.98217172e-01,  2.91826517e-01,\n",
       "         4.70880590e-01,  5.91037414e-01,  3.77005242e-01,\n",
       "         5.46809110e-01],\n",
       "       [-7.55782811e-01, -3.56871498e-01,  9.20220909e-01,\n",
       "        -3.99152469e-01, -6.87470777e-01, -8.22228372e-01,\n",
       "        -8.25699986e-01, -7.55187493e-01, -8.54545215e-01,\n",
       "        -7.90676170e-01],\n",
       "       [ 3.09576941e-01,  4.80709673e-01,  5.56851627e-01,\n",
       "        -3.99152469e-01,  6.06275792e-01,  3.45981963e-01,\n",
       "         4.64821802e-01,  2.17086051e-01,  4.31139328e-01,\n",
       "         3.08445397e-01],\n",
       "       [ 3.09576941e-01,  3.51851032e-01, -1.69886937e-01,\n",
       "        -3.99152469e-01,  6.52246482e-01,  7.63752547e-01,\n",
       "         6.29222155e-02,  2.17086051e-01,  5.32640739e-01,\n",
       "         3.48172682e-01],\n",
       "       [ 5.75916879e-01, -1.32331131e+00, -1.69886937e-01,\n",
       "         3.55346567e-01,  2.31943028e-01, -1.56890035e-01,\n",
       "        -8.07523623e-01, -5.30816675e-01, -3.06437594e-01,\n",
       "        -5.65554885e-01],\n",
       "       [ 5.75916879e-01, -6.14588782e-01,  9.20220909e-01,\n",
       "        -3.99152469e-01,  8.42696484e-01,  5.85813224e-01,\n",
       "         6.42546242e-01,  1.21428969e+00,  6.61209194e-01,\n",
       "         1.12947596e+00],\n",
       "       [ 4.32370029e-02,  2.97044272e-02, -5.33256219e-01,\n",
       "        -3.99152469e-01,  7.11351655e-01, -2.41991450e-01,\n",
       "        -2.31938788e-01,  3.16806415e-01, -2.38769987e-01,\n",
       "         4.35968263e-02],\n",
       "       [ 1.10859675e+00, -2.16089248e+00,  9.20220909e-01,\n",
       "        -3.99152469e-01,  1.16449132e+00,  1.97838184e+00,\n",
       "         6.48605030e-01,  3.53278814e+00,  1.58825542e+00,\n",
       "         3.11584024e+00],\n",
       "       [ 8.42256817e-01,  2.97044272e-02, -1.69886937e-01,\n",
       "        -3.99152469e-01,  7.11351655e-01,  3.84664425e-01,\n",
       "         7.39486846e-01,  3.91596687e-01,  5.66474543e-01,\n",
       "         4.93839396e-01],\n",
       "       [-4.89442873e-01,  1.12500288e+00,  1.28359019e+00,\n",
       "        -2.21623284e-01, -1.01583285e+00, -6.82971511e-01,\n",
       "        -6.35857970e-01, -8.05047675e-01, -6.85376196e-01,\n",
       "        -7.90676170e-01],\n",
       "       [-4.89442873e-01,  9.41337480e-02, -5.33256219e-01,\n",
       "        -3.99152469e-01,  2.12241304e-01, -6.82971511e-01,\n",
       "        -6.68171505e-01, -5.30816675e-01, -7.05676479e-01,\n",
       "        -7.24464028e-01],\n",
       "       [ 5.75916879e-01,  4.80709673e-01,  1.93482345e-01,\n",
       "        -3.99152469e-01,  6.45679240e-01, -9.49980968e-02,\n",
       "        -4.62172722e-01,  2.66946233e-01, -2.25236465e-01,\n",
       "         3.03543978e-02],\n",
       "       [-4.89442873e-01,  1.12500288e+00, -1.69886937e-01,\n",
       "        -3.99152469e-01,  4.55229238e-01, -4.74086219e-01,\n",
       "        -2.82428686e-01, -2.06725494e-01, -4.07939006e-01,\n",
       "        -3.66918458e-01],\n",
       "       [ 5.75916879e-01, -4.21300819e-01,  5.56851627e-01,\n",
       "        -3.54770173e-01,  5.60305101e-01, -3.34829358e-01,\n",
       "        -4.27839591e-01,  9.24355967e-02, -3.87638723e-01,\n",
       "        -1.68282030e-01],\n",
       "       [-2.23102935e-01,  4.16280352e-01,  5.56851627e-01,\n",
       "         1.68681545e+00, -9.17324228e-01, -7.83545910e-01,\n",
       "        -8.17621602e-01, -8.05047675e-01, -8.27478172e-01,\n",
       "        -8.03918599e-01],\n",
       "       [-1.28846269e+00,  9.31714919e-01,  1.93482345e-01,\n",
       "        -3.99152469e-01, -7.46575950e-01, -8.53174341e-01,\n",
       "        -6.92406656e-01, -7.80117584e-01, -8.20711412e-01,\n",
       "        -7.90676170e-01],\n",
       "       [ 1.10859675e+00, -6.14588782e-01,  1.93482345e-01,\n",
       "        -3.99152469e-01,  8.75532692e-01,  1.82365199e+00,\n",
       "         2.28245812e+00,  1.51345078e+00,  2.12959628e+00,\n",
       "         2.09617325e+00],\n",
       "       [ 3.09576941e-01, -3.47248937e-02, -1.98673335e+00,\n",
       "         3.46210730e+00, -7.00605260e-01, -7.29390464e-01,\n",
       "        -8.11562815e-01, -8.54907856e-01, -7.86877608e-01,\n",
       "        -8.03918599e-01],\n",
       "       [ 8.42256817e-01,  3.51851032e-01,  1.28359019e+00,\n",
       "        -3.99152469e-01,  7.96725794e-01,  9.18482393e-01,\n",
       "         1.65840299e+00,  1.11456932e+00,  1.26345090e+00,\n",
       "         1.36783968e+00],\n",
       "       [-7.55782811e-01, -9.91542146e-02, -8.96625501e-01,\n",
       "         1.77817382e-01, -7.72844916e-01, -7.68072926e-01,\n",
       "        -8.25699986e-01, -8.29977766e-01, -8.20711412e-01,\n",
       "        -8.03918599e-01],\n",
       "       [-1.28846269e+00,  1.57600813e+00,  4.91728301e+00,\n",
       "        -1.77240988e-01, -1.98778459e+00, -8.14491879e-01,\n",
       "        -8.19641198e-01, -9.79558311e-01, -8.54545215e-01,\n",
       "        -8.30403456e-01],\n",
       "       [-1.28846269e+00, -2.92442177e-01,  5.56851627e-01,\n",
       "        -3.99152469e-01,  8.36129243e-01,  5.62603747e-01,\n",
       "        -2.15782020e-01,  1.08963923e+00,  3.49938199e-01,\n",
       "         8.51384966e-01],\n",
       "       [-2.23102935e-01,  1.58563069e-01, -5.33256219e-01,\n",
       "        -3.99152469e-01,  5.47170618e-01, -1.18207574e-01,\n",
       "         1.17451305e-01, -8.20750394e-02, -1.54668817e-02,\n",
       "        -1.15312316e-01],\n",
       "       [ 5.75916879e-01, -1.13002335e+00,  9.20220909e-01,\n",
       "        -3.99152469e-01,  9.41205106e-01,  3.61454948e-01,\n",
       "        -4.20967719e-02,  1.73782159e+00,  1.80769180e-01,\n",
       "         1.12947596e+00]])"
      ]
     },
     "execution_count": 29,
     "metadata": {},
     "output_type": "execute_result"
    }
   ],
   "source": [
    "X_test"
   ]
  },
  {
   "cell_type": "code",
   "execution_count": 30,
   "id": "4f00137f",
   "metadata": {},
   "outputs": [],
   "source": [
    "Y_pred_US = log_reg.predict(X_test)"
   ]
  },
  {
   "cell_type": "code",
   "execution_count": 31,
   "id": "ab5fd330",
   "metadata": {},
   "outputs": [
    {
     "data": {
      "text/plain": [
       "array([1, 1, 1, 1, 1, 1, 1, 0, 0, 1, 1, 0, 0, 1, 1, 1, 0, 0, 1, 0, 1, 0,\n",
       "       1, 0, 0, 0, 1, 1, 1, 0, 0, 1, 0, 0, 1, 0, 0, 1, 0, 1, 1, 0, 1, 1,\n",
       "       1, 1, 0, 0, 1, 1, 1, 0, 0, 1, 0, 1, 0, 0, 1, 1, 1], dtype=int64)"
      ]
     },
     "execution_count": 31,
     "metadata": {},
     "output_type": "execute_result"
    }
   ],
   "source": [
    "Y_pred_US"
   ]
  },
  {
   "cell_type": "code",
   "execution_count": 32,
   "id": "2d4c017a",
   "metadata": {},
   "outputs": [
    {
     "name": "stdout",
     "output_type": "stream",
     "text": [
      "Performace Matrics for Logistic Regression:Imbalance data handling using Undersampling\n",
      "conf_mat\n",
      " [[26  3]\n",
      " [ 0 32]]\n",
      "Accuracy_US 0.9508196721311475\n",
      "Precision_US 0.896551724137931\n",
      "Recall 1.0\n",
      "F1_Score_US 0.9642857142857143\n"
     ]
    }
   ],
   "source": [
    "print('Performace Matrics for Logistic Regression:Imbalance data handling using Undersampling')\n",
    "# Confusion Matrix\n",
    "conf_mat = confusion_matrix(Y_test,Y_pred_US)\n",
    "print('conf_mat\\n',conf_mat)\n",
    "true_positive = conf_mat[0][0]\n",
    "false_positive = conf_mat[0][1]\n",
    "false_negative = conf_mat[1][0]\n",
    "true_negative = conf_mat[1][1]\n",
    "# Breaking down the formula for Accuracy\n",
    "Accuracy_US = (true_positive + true_negative) / (true_positive +false_positive + false_negative + true_negative)\n",
    "print('Accuracy_US',Accuracy_US)\n",
    "# Precison\n",
    "Precision_US = true_positive/(true_positive+false_positive)\n",
    "print('Precision_US',Precision_US)\n",
    "# Recall\n",
    "Recall = true_positive/(true_positive+false_negative)\n",
    "print('Recall',Recall)\n",
    "# F1 Score\n",
    "F1_Score_US = 2*(Recall * Precision) / (Recall + Precision)\n",
    "print('F1_Score_US',F1_Score_US)"
   ]
  },
  {
   "cell_type": "markdown",
   "id": "1c629b06",
   "metadata": {},
   "source": [
    "#### observation for Undersampling:\n",
    "#### Accuracy is decreased to 0.95 and it is more meaningful now,precision become 0.89 which means out of all actual values how many are correctly predicted and F1_score 0.96.\n",
    "#### The major disadvantage of undersampling is that we do not use a significant chunk of the data, which contains some information.herefore, we are losing information, and as a result, we will not get significant results."
   ]
  },
  {
   "cell_type": "code",
   "execution_count": 33,
   "id": "0c410be2",
   "metadata": {},
   "outputs": [],
   "source": [
    "\n",
    "import pickle\n",
    "# Writing different model files to file\n",
    "with open( 'log_regress_US_modelForPrediction.sav', 'wb') as f:\n",
    "    pickle.dump(log_reg,f)\n",
    "    \n",
    "with open('sandardScalar.sav', 'wb') as f:\n",
    "    pickle.dump(scaler,f)"
   ]
  },
  {
   "cell_type": "markdown",
   "id": "29665725",
   "metadata": {},
   "source": [
    "#### Undersampling:In random undersampling method, we balance the imbalanced class distribution by choosing and eliminating observations from majority class to make the dataset balanced.\n",
    "#### Advantages\n",
    "\n",
    "* If the dataset is huge, we might face run time and storage problems. Undersampling can help to handle these problems successfully by improving run time and storage problems by reducing the number of training data samples.\n",
    "#### Disadvantages\n",
    "\n",
    "* This method can discard potentially useful information which could be important for building the classifiers.\n",
    "\n",
    "* The sample chosen by random under sampling may be a biased one. It may not be an accurate representation of the population. So, it results in inaccurate results with the actual dataset."
   ]
  },
  {
   "cell_type": "markdown",
   "id": "a16f47e4",
   "metadata": {},
   "source": [
    "### Balanced dataset from imbalanced dataset using Oversampling\n",
    "* Oversampling refers to the resampling of the minority class points to equal the total number of majority points. Repetition of the minority class points is one such type of oversampling technique.\n",
    "\n",
    "* Apart from repetition, we can provide the class weights to both the class. Providing the large weights to the minority class will give the same result as from that of repetition."
   ]
  },
  {
   "cell_type": "code",
   "execution_count": 34,
   "id": "0ae0c4b3",
   "metadata": {},
   "outputs": [],
   "source": [
    "X_train,X_test,Y_train,Y_test = train_test_split(X,Y, test_size= 0.25, random_state = 45)"
   ]
  },
  {
   "cell_type": "code",
   "execution_count": 35,
   "id": "58e0487b",
   "metadata": {},
   "outputs": [],
   "source": [
    "##importing library \n",
    "from imblearn.over_sampling import RandomOverSampler\n",
    "ros = RandomOverSampler(random_state=0)\n",
    "X_train_OS,Y_train_OS =ros.fit_resample(X_train, Y_train)"
   ]
  },
  {
   "cell_type": "code",
   "execution_count": 36,
   "id": "1ea2c706",
   "metadata": {},
   "outputs": [
    {
     "data": {
      "text/plain": [
       "(210, 10)"
      ]
     },
     "execution_count": 36,
     "metadata": {},
     "output_type": "execute_result"
    }
   ],
   "source": [
    "X_train_OS.shape"
   ]
  },
  {
   "cell_type": "code",
   "execution_count": 37,
   "id": "5bc1ab15",
   "metadata": {},
   "outputs": [
    {
     "data": {
      "text/plain": [
       "(210,)"
      ]
     },
     "execution_count": 37,
     "metadata": {},
     "output_type": "execute_result"
    }
   ],
   "source": [
    "Y_train_OS.shape"
   ]
  },
  {
   "cell_type": "markdown",
   "id": "c93a0387",
   "metadata": {},
   "source": [
    "# * Now, we can see that the new X_train has more (210)observations than the original one(182)  "
   ]
  },
  {
   "cell_type": "markdown",
   "id": "1d09ac63",
   "metadata": {},
   "source": [
    "##### Over-sampling increases the number of minority class members in the training set."
   ]
  },
  {
   "cell_type": "code",
   "execution_count": 38,
   "id": "559f6cf5",
   "metadata": {},
   "outputs": [
    {
     "data": {
      "text/html": [
       "<style>#sk-container-id-3 {color: black;background-color: white;}#sk-container-id-3 pre{padding: 0;}#sk-container-id-3 div.sk-toggleable {background-color: white;}#sk-container-id-3 label.sk-toggleable__label {cursor: pointer;display: block;width: 100%;margin-bottom: 0;padding: 0.3em;box-sizing: border-box;text-align: center;}#sk-container-id-3 label.sk-toggleable__label-arrow:before {content: \"▸\";float: left;margin-right: 0.25em;color: #696969;}#sk-container-id-3 label.sk-toggleable__label-arrow:hover:before {color: black;}#sk-container-id-3 div.sk-estimator:hover label.sk-toggleable__label-arrow:before {color: black;}#sk-container-id-3 div.sk-toggleable__content {max-height: 0;max-width: 0;overflow: hidden;text-align: left;background-color: #f0f8ff;}#sk-container-id-3 div.sk-toggleable__content pre {margin: 0.2em;color: black;border-radius: 0.25em;background-color: #f0f8ff;}#sk-container-id-3 input.sk-toggleable__control:checked~div.sk-toggleable__content {max-height: 200px;max-width: 100%;overflow: auto;}#sk-container-id-3 input.sk-toggleable__control:checked~label.sk-toggleable__label-arrow:before {content: \"▾\";}#sk-container-id-3 div.sk-estimator input.sk-toggleable__control:checked~label.sk-toggleable__label {background-color: #d4ebff;}#sk-container-id-3 div.sk-label input.sk-toggleable__control:checked~label.sk-toggleable__label {background-color: #d4ebff;}#sk-container-id-3 input.sk-hidden--visually {border: 0;clip: rect(1px 1px 1px 1px);clip: rect(1px, 1px, 1px, 1px);height: 1px;margin: -1px;overflow: hidden;padding: 0;position: absolute;width: 1px;}#sk-container-id-3 div.sk-estimator {font-family: monospace;background-color: #f0f8ff;border: 1px dotted black;border-radius: 0.25em;box-sizing: border-box;margin-bottom: 0.5em;}#sk-container-id-3 div.sk-estimator:hover {background-color: #d4ebff;}#sk-container-id-3 div.sk-parallel-item::after {content: \"\";width: 100%;border-bottom: 1px solid gray;flex-grow: 1;}#sk-container-id-3 div.sk-label:hover label.sk-toggleable__label {background-color: #d4ebff;}#sk-container-id-3 div.sk-serial::before {content: \"\";position: absolute;border-left: 1px solid gray;box-sizing: border-box;top: 0;bottom: 0;left: 50%;z-index: 0;}#sk-container-id-3 div.sk-serial {display: flex;flex-direction: column;align-items: center;background-color: white;padding-right: 0.2em;padding-left: 0.2em;position: relative;}#sk-container-id-3 div.sk-item {position: relative;z-index: 1;}#sk-container-id-3 div.sk-parallel {display: flex;align-items: stretch;justify-content: center;background-color: white;position: relative;}#sk-container-id-3 div.sk-item::before, #sk-container-id-3 div.sk-parallel-item::before {content: \"\";position: absolute;border-left: 1px solid gray;box-sizing: border-box;top: 0;bottom: 0;left: 50%;z-index: -1;}#sk-container-id-3 div.sk-parallel-item {display: flex;flex-direction: column;z-index: 1;position: relative;background-color: white;}#sk-container-id-3 div.sk-parallel-item:first-child::after {align-self: flex-end;width: 50%;}#sk-container-id-3 div.sk-parallel-item:last-child::after {align-self: flex-start;width: 50%;}#sk-container-id-3 div.sk-parallel-item:only-child::after {width: 0;}#sk-container-id-3 div.sk-dashed-wrapped {border: 1px dashed gray;margin: 0 0.4em 0.5em 0.4em;box-sizing: border-box;padding-bottom: 0.4em;background-color: white;}#sk-container-id-3 div.sk-label label {font-family: monospace;font-weight: bold;display: inline-block;line-height: 1.2em;}#sk-container-id-3 div.sk-label-container {text-align: center;}#sk-container-id-3 div.sk-container {/* jupyter's `normalize.less` sets `[hidden] { display: none; }` but bootstrap.min.css set `[hidden] { display: none !important; }` so we also need the `!important` here to be able to override the default hidden behavior on the sphinx rendered scikit-learn.org. See: https://github.com/scikit-learn/scikit-learn/issues/21755 */display: inline-block !important;position: relative;}#sk-container-id-3 div.sk-text-repr-fallback {display: none;}</style><div id=\"sk-container-id-3\" class=\"sk-top-container\"><div class=\"sk-text-repr-fallback\"><pre>LogisticRegression()</pre><b>In a Jupyter environment, please rerun this cell to show the HTML representation or trust the notebook. <br />On GitHub, the HTML representation is unable to render, please try loading this page with nbviewer.org.</b></div><div class=\"sk-container\" hidden><div class=\"sk-item\"><div class=\"sk-estimator sk-toggleable\"><input class=\"sk-toggleable__control sk-hidden--visually\" id=\"sk-estimator-id-3\" type=\"checkbox\" checked><label for=\"sk-estimator-id-3\" class=\"sk-toggleable__label sk-toggleable__label-arrow\">LogisticRegression</label><div class=\"sk-toggleable__content\"><pre>LogisticRegression()</pre></div></div></div></div></div>"
      ],
      "text/plain": [
       "LogisticRegression()"
      ]
     },
     "execution_count": 38,
     "metadata": {},
     "output_type": "execute_result"
    }
   ],
   "source": [
    "scaler=StandardScaler()\n",
    "X_train=scaler.fit_transform(X_train_OS)\n",
    "X_test=scaler.transform(X_test)\n",
    "log_reg = LogisticRegression()\n",
    "\n",
    "log_reg.fit(X_train_OS,Y_train_OS)"
   ]
  },
  {
   "cell_type": "code",
   "execution_count": 39,
   "id": "3a8b802e",
   "metadata": {},
   "outputs": [],
   "source": [
    "Y_pred_OS = log_reg.predict(X_test)"
   ]
  },
  {
   "cell_type": "code",
   "execution_count": 40,
   "id": "20216452",
   "metadata": {},
   "outputs": [
    {
     "data": {
      "text/plain": [
       "array([1, 1, 1, 1, 1, 1, 1, 1, 0, 1, 1, 0, 0, 1, 1, 1, 0, 0, 1, 0, 1, 0,\n",
       "       1, 0, 0, 0, 1, 1, 1, 0, 0, 1, 0, 0, 1, 0, 0, 1, 0, 1, 1, 0, 1, 1,\n",
       "       1, 1, 0, 0, 1, 1, 1, 0, 0, 1, 0, 1, 0, 0, 1, 1, 1], dtype=int64)"
      ]
     },
     "execution_count": 40,
     "metadata": {},
     "output_type": "execute_result"
    }
   ],
   "source": [
    "Y_pred_OS"
   ]
  },
  {
   "cell_type": "code",
   "execution_count": 41,
   "id": "947696c5",
   "metadata": {},
   "outputs": [
    {
     "name": "stdout",
     "output_type": "stream",
     "text": [
      "Performace Matrics for Logistic Regression:Imbalance data handling using Oversampling\n",
      "conf_mat\n",
      " [[25  4]\n",
      " [ 0 32]]\n",
      "Accuracy_OS 0.9344262295081968\n",
      "Precision_OS 0.8620689655172413\n",
      "Recall_OS 1.0\n",
      "F1_Score_OS 0.9642857142857143\n"
     ]
    }
   ],
   "source": [
    "print('Performace Matrics for Logistic Regression:Imbalance data handling using Oversampling')\n",
    "# Confusion Matrix\n",
    "conf_mat = confusion_matrix(Y_test,Y_pred_OS)\n",
    "print('conf_mat\\n',conf_mat)\n",
    "true_positive = conf_mat[0][0]\n",
    "false_positive = conf_mat[0][1]\n",
    "false_negative = conf_mat[1][0]\n",
    "true_negative = conf_mat[1][1]\n",
    "\n",
    "# Breaking down the formula for Accuracy\n",
    "Accuracy_OS = (true_positive + true_negative) / (true_positive +false_positive + false_negative + true_negative)\n",
    "print('Accuracy_OS',Accuracy_OS)\n",
    "# Precison\n",
    "Precision_OS = true_positive/(true_positive+false_positive)\n",
    "print('Precision_OS',Precision_OS)\n",
    " # Recall\n",
    "Recall_OS = true_positive/(true_positive+false_negative)\n",
    "print('Recall_OS',Recall_OS)\n",
    "# F1 Score\n",
    "F1_Score_OS = 2*(Recall * Precision) / (Recall + Precision)\n",
    "print('F1_Score_OS',F1_Score_OS)"
   ]
  },
  {
   "cell_type": "code",
   "execution_count": 42,
   "id": "4e9c3400",
   "metadata": {},
   "outputs": [],
   "source": [
    "###saving the model\n",
    "import pickle\n",
    "# Writing different model files to file\n",
    "with open( 'log_regress_OS_modelForPrediction.sav', 'wb') as f:\n",
    "    pickle.dump(log_reg,f)\n",
    "    \n",
    "with open('sandardScalar.sav', 'wb') as f:\n",
    "    pickle.dump(scaler,f)"
   ]
  },
  {
   "cell_type": "markdown",
   "id": "b5b98d03",
   "metadata": {},
   "source": [
    "*Accuracy =0.9344 is slightly decreased now it is more meaningful now. precision is 0.86,F1 score 0.9642"
   ]
  },
  {
   "cell_type": "markdown",
   "id": "c82b2693",
   "metadata": {},
   "source": [
    "#### Random oversampling: In random oversampling, we balance the data by randomly oversampling the minority class.\n",
    "\n",
    "* Advantages:An advantage of this method is that it leads to no information loss.This method outperform under sampling.\n",
    "\n",
    "* Disadvantages:This method increases the likelihood of overfitting as it replicates the minority class labels."
   ]
  },
  {
   "cell_type": "markdown",
   "id": "3b6f81dd",
   "metadata": {},
   "source": [
    "### Creating synthetic data: Synthetic Minority Oversampling Technique\n",
    "* The problem with repeating the data is that it does not provide any extra information. One way to increase the information about the data is by creating synthetic data points. \n",
    "* One such technique is the SMOTE (Synthetic Minority Oversampling technique). As the name suggests, SMOTE is an oversampling technique. In layman terms, SMOTE will create synthetic data points for the minority class. It creates new instances between the points of the minority class.\n",
    "* In the context of synthetic data generation, there is a powerful and widely used method known as synthetic minority oversampling technique or SMOTE. Under this technique, artificial data is created based on feature space. Artificial data is generated with bootstrapping and k-nearest neighbours algorithm. "
   ]
  },
  {
   "cell_type": "code",
   "execution_count": 52,
   "id": "670e30c8",
   "metadata": {},
   "outputs": [],
   "source": [
    "from imblearn.over_sampling import SMOTE"
   ]
  },
  {
   "cell_type": "code",
   "execution_count": 53,
   "id": "0ff800ff",
   "metadata": {},
   "outputs": [],
   "source": [
    "X_train,X_test,Y_train,Y_test = train_test_split(X,Y, test_size= 0.25, random_state = 45)"
   ]
  },
  {
   "cell_type": "code",
   "execution_count": 54,
   "id": "6ce35055",
   "metadata": {},
   "outputs": [],
   "source": [
    "smote = SMOTE()\n",
    "X_train_SMOTE,Y_train_SMOTE = smote.fit_resample(X_train,Y_train)"
   ]
  },
  {
   "cell_type": "code",
   "execution_count": 55,
   "id": "a7667d42",
   "metadata": {},
   "outputs": [
    {
     "data": {
      "text/plain": [
       "array([[ 1.06274431, -0.00278101,  0.18041553, ...,  0.54457042,\n",
       "        -0.02046149,  0.33192306],\n",
       "       [-0.04205512, -1.01645766, -0.53244583, ..., -0.70974817,\n",
       "        -0.69655999, -0.82628833],\n",
       "       [-0.31825498, -0.47583011, -1.60173788, ...,  0.15862624,\n",
       "         0.17673391,  0.17031216],\n",
       "       ...,\n",
       "       [ 0.43905145, -0.3559213 , -0.0840127 , ..., -0.7579912 ,\n",
       "        -0.69837786, -0.83975591],\n",
       "       [ 1.19873699, -1.03515682, -0.53244583, ..., -0.66150515,\n",
       "        -0.84965796, -0.82960385],\n",
       "       [-1.97709379, -0.43144645,  0.8932769 , ..., -0.67792029,\n",
       "        -0.74160968, -0.79967299]])"
      ]
     },
     "execution_count": 55,
     "metadata": {},
     "output_type": "execute_result"
    }
   ],
   "source": [
    "X_train_SMOTE"
   ]
  },
  {
   "cell_type": "code",
   "execution_count": 56,
   "id": "c09aa363",
   "metadata": {},
   "outputs": [
    {
     "data": {
      "text/plain": [
       "0      1\n",
       "1      0\n",
       "2      1\n",
       "3      1\n",
       "4      0\n",
       "      ..\n",
       "205    0\n",
       "206    0\n",
       "207    0\n",
       "208    0\n",
       "209    0\n",
       "Name: Classes, Length: 210, dtype: int64"
      ]
     },
     "execution_count": 56,
     "metadata": {},
     "output_type": "execute_result"
    }
   ],
   "source": [
    "Y_train_SMOTE"
   ]
  },
  {
   "cell_type": "code",
   "execution_count": 57,
   "id": "029e155b",
   "metadata": {},
   "outputs": [
    {
     "data": {
      "text/plain": [
       "(182, 10)"
      ]
     },
     "execution_count": 57,
     "metadata": {},
     "output_type": "execute_result"
    }
   ],
   "source": [
    "X_train.shape"
   ]
  },
  {
   "cell_type": "code",
   "execution_count": 58,
   "id": "dc089db6",
   "metadata": {},
   "outputs": [],
   "source": [
    "\n",
    "scaler=StandardScaler()\n",
    "X_train=scaler.fit_transform(X_train_SMOTE)\n",
    "X_test=scaler.transform(X_test)\n",
    "log_reg = LogisticRegression()\n",
    "log_reg.fit(X_train_SMOTE,Y_train_SMOTE)\n",
    "Y_pred_SMOTE = log_reg.predict(X_test)"
   ]
  },
  {
   "cell_type": "code",
   "execution_count": 59,
   "id": "a6edd837",
   "metadata": {},
   "outputs": [
    {
     "name": "stdout",
     "output_type": "stream",
     "text": [
      "Performace Matrics for Logistic Regression:Imbalance data handling using SMOTE\n",
      "conf_mat\n",
      " [[26  3]\n",
      " [ 0 32]]\n",
      "Accuracy_SMOTE 0.9508196721311475\n",
      "Precision_SMOTE 0.896551724137931\n",
      "Recall_SMOTE 1.0\n",
      "F1_Score_SMOTE 0.9642857142857143\n"
     ]
    }
   ],
   "source": [
    "print('Performace Matrics for Logistic Regression:Imbalance data handling using SMOTE')\n",
    "# Confusion Matrix\n",
    "conf_mat = confusion_matrix(Y_test,Y_pred_SMOTE)\n",
    "print('conf_mat\\n',conf_mat)\n",
    "true_positive = conf_mat[0][0]\n",
    "false_positive = conf_mat[0][1]\n",
    "false_negative = conf_mat[1][0]\n",
    "true_negative = conf_mat[1][1]\n",
    "\n",
    "# Breaking down the formula for Accuracy\n",
    "Accuracy_SMOTE = (true_positive + true_negative) / (true_positive +false_positive + false_negative + true_negative)\n",
    "print('Accuracy_SMOTE',Accuracy_SMOTE)\n",
    "# Precison\n",
    "Precision_SMOTE = true_positive/(true_positive+false_positive)\n",
    "print('Precision_SMOTE',Precision_SMOTE)\n",
    " # Recall\n",
    "Recall_SMOTE = true_positive/(true_positive+false_negative)\n",
    "print('Recall_SMOTE',Recall_SMOTE)\n",
    "# F1 Score\n",
    "F1_Score_SMOTE = 2*(Recall * Precision) / (Recall + Precision)\n",
    "print('F1_Score_SMOTE',F1_Score_SMOTE)"
   ]
  },
  {
   "cell_type": "markdown",
   "id": "38e4f2aa",
   "metadata": {},
   "source": [
    "* SMOTE: Accuracy sightly decreased to 0.9508 ,gives precision 0.89 and Recall "
   ]
  },
  {
   "cell_type": "code",
   "execution_count": null,
   "id": "6898c6a9",
   "metadata": {},
   "outputs": [],
   "source": [
    "### saving the model\n",
    "import pickle\n",
    "# Writing different model files to file\n",
    "with open( 'log_regress_SMOTE_modelForPrediction.sav', 'wb') as f:\n",
    "    pickle.dump(log_reg,f)\n",
    "    \n",
    "with open('sandardScalar.sav', 'wb') as f:\n",
    "    pickle.dump(scaler,f)"
   ]
  },
  {
   "cell_type": "markdown",
   "id": "06bf929d",
   "metadata": {},
   "source": [
    "### Conclusion\n",
    "* In this jupyter notebook, I have discussed various approaches to deal with the problem of imbalanced classes. These are random oversampling, random undersampling,over-sampling : SMOTE.\n",
    "\n",
    "* Some combination of these approaches will help us to create a better classifier. Simple sampling techniques may handle slight imbalance whereas more advanced methods like ensemble methods are required for extreme imbalances. The most effective technique will vary according to the dataset.\n",
    "\n",
    "* So, based on the above discussion, we can conclude that there is no one solution to deal with the imbalanced classes problem. We should try out multiple methods to select the best-suited sampling techniques for the dataset in hand. The most effective technique will vary according to the characteristics of the dataset."
   ]
  },
  {
   "cell_type": "code",
   "execution_count": null,
   "id": "f90af173",
   "metadata": {},
   "outputs": [],
   "source": []
  }
 ],
 "metadata": {
  "kernelspec": {
   "display_name": "Python 3",
   "language": "python",
   "name": "python3"
  },
  "language_info": {
   "codemirror_mode": {
    "name": "ipython",
    "version": 3
   },
   "file_extension": ".py",
   "mimetype": "text/x-python",
   "name": "python",
   "nbconvert_exporter": "python",
   "pygments_lexer": "ipython3",
   "version": "3.8.8"
  }
 },
 "nbformat": 4,
 "nbformat_minor": 5
}
